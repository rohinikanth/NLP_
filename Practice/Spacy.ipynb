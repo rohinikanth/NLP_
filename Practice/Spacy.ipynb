{
  "nbformat": 4,
  "nbformat_minor": 0,
  "metadata": {
    "colab": {
      "provenance": []
    },
    "kernelspec": {
      "name": "python3",
      "display_name": "Python 3"
    },
    "language_info": {
      "name": "python"
    }
  },
  "cells": [
    {
      "cell_type": "code",
      "execution_count": null,
      "metadata": {
        "id": "JG-RisoCPFKw",
        "colab": {
          "base_uri": "https://localhost:8080/"
        },
        "collapsed": true,
        "outputId": "5cd5c7ca-f7f0-4f2a-ae26-dcdd3c70c6ec"
      },
      "outputs": [
        {
          "output_type": "stream",
          "name": "stdout",
          "text": [
            "Requirement already satisfied: spacy in /usr/local/lib/python3.10/dist-packages (3.7.5)\n",
            "Requirement already satisfied: spacy-legacy<3.1.0,>=3.0.11 in /usr/local/lib/python3.10/dist-packages (from spacy) (3.0.12)\n",
            "Requirement already satisfied: spacy-loggers<2.0.0,>=1.0.0 in /usr/local/lib/python3.10/dist-packages (from spacy) (1.0.5)\n",
            "Requirement already satisfied: murmurhash<1.1.0,>=0.28.0 in /usr/local/lib/python3.10/dist-packages (from spacy) (1.0.10)\n",
            "Requirement already satisfied: cymem<2.1.0,>=2.0.2 in /usr/local/lib/python3.10/dist-packages (from spacy) (2.0.8)\n",
            "Requirement already satisfied: preshed<3.1.0,>=3.0.2 in /usr/local/lib/python3.10/dist-packages (from spacy) (3.0.9)\n",
            "Requirement already satisfied: thinc<8.3.0,>=8.2.2 in /usr/local/lib/python3.10/dist-packages (from spacy) (8.2.5)\n",
            "Requirement already satisfied: wasabi<1.2.0,>=0.9.1 in /usr/local/lib/python3.10/dist-packages (from spacy) (1.1.3)\n",
            "Requirement already satisfied: srsly<3.0.0,>=2.4.3 in /usr/local/lib/python3.10/dist-packages (from spacy) (2.4.8)\n",
            "Requirement already satisfied: catalogue<2.1.0,>=2.0.6 in /usr/local/lib/python3.10/dist-packages (from spacy) (2.0.10)\n",
            "Requirement already satisfied: weasel<0.5.0,>=0.1.0 in /usr/local/lib/python3.10/dist-packages (from spacy) (0.4.1)\n",
            "Requirement already satisfied: typer<1.0.0,>=0.3.0 in /usr/local/lib/python3.10/dist-packages (from spacy) (0.12.3)\n",
            "Requirement already satisfied: tqdm<5.0.0,>=4.38.0 in /usr/local/lib/python3.10/dist-packages (from spacy) (4.66.4)\n",
            "Requirement already satisfied: requests<3.0.0,>=2.13.0 in /usr/local/lib/python3.10/dist-packages (from spacy) (2.31.0)\n",
            "Requirement already satisfied: pydantic!=1.8,!=1.8.1,<3.0.0,>=1.7.4 in /usr/local/lib/python3.10/dist-packages (from spacy) (2.8.2)\n",
            "Requirement already satisfied: jinja2 in /usr/local/lib/python3.10/dist-packages (from spacy) (3.1.4)\n",
            "Requirement already satisfied: setuptools in /usr/local/lib/python3.10/dist-packages (from spacy) (67.7.2)\n",
            "Requirement already satisfied: packaging>=20.0 in /usr/local/lib/python3.10/dist-packages (from spacy) (24.1)\n",
            "Requirement already satisfied: langcodes<4.0.0,>=3.2.0 in /usr/local/lib/python3.10/dist-packages (from spacy) (3.4.0)\n",
            "Requirement already satisfied: numpy>=1.19.0 in /usr/local/lib/python3.10/dist-packages (from spacy) (1.25.2)\n",
            "Requirement already satisfied: language-data>=1.2 in /usr/local/lib/python3.10/dist-packages (from langcodes<4.0.0,>=3.2.0->spacy) (1.2.0)\n",
            "Requirement already satisfied: annotated-types>=0.4.0 in /usr/local/lib/python3.10/dist-packages (from pydantic!=1.8,!=1.8.1,<3.0.0,>=1.7.4->spacy) (0.7.0)\n",
            "Requirement already satisfied: pydantic-core==2.20.1 in /usr/local/lib/python3.10/dist-packages (from pydantic!=1.8,!=1.8.1,<3.0.0,>=1.7.4->spacy) (2.20.1)\n",
            "Requirement already satisfied: typing-extensions>=4.6.1 in /usr/local/lib/python3.10/dist-packages (from pydantic!=1.8,!=1.8.1,<3.0.0,>=1.7.4->spacy) (4.12.2)\n",
            "Requirement already satisfied: charset-normalizer<4,>=2 in /usr/local/lib/python3.10/dist-packages (from requests<3.0.0,>=2.13.0->spacy) (3.3.2)\n",
            "Requirement already satisfied: idna<4,>=2.5 in /usr/local/lib/python3.10/dist-packages (from requests<3.0.0,>=2.13.0->spacy) (3.7)\n",
            "Requirement already satisfied: urllib3<3,>=1.21.1 in /usr/local/lib/python3.10/dist-packages (from requests<3.0.0,>=2.13.0->spacy) (2.0.7)\n",
            "Requirement already satisfied: certifi>=2017.4.17 in /usr/local/lib/python3.10/dist-packages (from requests<3.0.0,>=2.13.0->spacy) (2024.7.4)\n",
            "Requirement already satisfied: blis<0.8.0,>=0.7.8 in /usr/local/lib/python3.10/dist-packages (from thinc<8.3.0,>=8.2.2->spacy) (0.7.11)\n",
            "Requirement already satisfied: confection<1.0.0,>=0.0.1 in /usr/local/lib/python3.10/dist-packages (from thinc<8.3.0,>=8.2.2->spacy) (0.1.5)\n",
            "Requirement already satisfied: click>=8.0.0 in /usr/local/lib/python3.10/dist-packages (from typer<1.0.0,>=0.3.0->spacy) (8.1.7)\n",
            "Requirement already satisfied: shellingham>=1.3.0 in /usr/local/lib/python3.10/dist-packages (from typer<1.0.0,>=0.3.0->spacy) (1.5.4)\n",
            "Requirement already satisfied: rich>=10.11.0 in /usr/local/lib/python3.10/dist-packages (from typer<1.0.0,>=0.3.0->spacy) (13.7.1)\n",
            "Requirement already satisfied: cloudpathlib<1.0.0,>=0.7.0 in /usr/local/lib/python3.10/dist-packages (from weasel<0.5.0,>=0.1.0->spacy) (0.18.1)\n",
            "Requirement already satisfied: smart-open<8.0.0,>=5.2.1 in /usr/local/lib/python3.10/dist-packages (from weasel<0.5.0,>=0.1.0->spacy) (7.0.4)\n",
            "Requirement already satisfied: MarkupSafe>=2.0 in /usr/local/lib/python3.10/dist-packages (from jinja2->spacy) (2.1.5)\n",
            "Requirement already satisfied: marisa-trie>=0.7.7 in /usr/local/lib/python3.10/dist-packages (from language-data>=1.2->langcodes<4.0.0,>=3.2.0->spacy) (1.2.0)\n",
            "Requirement already satisfied: markdown-it-py>=2.2.0 in /usr/local/lib/python3.10/dist-packages (from rich>=10.11.0->typer<1.0.0,>=0.3.0->spacy) (3.0.0)\n",
            "Requirement already satisfied: pygments<3.0.0,>=2.13.0 in /usr/local/lib/python3.10/dist-packages (from rich>=10.11.0->typer<1.0.0,>=0.3.0->spacy) (2.16.1)\n",
            "Requirement already satisfied: wrapt in /usr/local/lib/python3.10/dist-packages (from smart-open<8.0.0,>=5.2.1->weasel<0.5.0,>=0.1.0->spacy) (1.14.1)\n",
            "Requirement already satisfied: mdurl~=0.1 in /usr/local/lib/python3.10/dist-packages (from markdown-it-py>=2.2.0->rich>=10.11.0->typer<1.0.0,>=0.3.0->spacy) (0.1.2)\n"
          ]
        }
      ],
      "source": [
        "!pip install spacy"
      ]
    },
    {
      "cell_type": "code",
      "source": [
        "import spacy\n",
        "nlp = spacy.load(\"en_core_web_sm\")\n",
        "doc = nlp(\"Captain america ate 100$ of samosa. Then he said I can do this all day.\")\n",
        "\n",
        "for token in doc:\n",
        "  print(token.text,\"|\" ,spacy.explain(token.pos_) ,\"|\",(token.lemma_))"
      ],
      "metadata": {
        "colab": {
          "base_uri": "https://localhost:8080/"
        },
        "id": "aKFR0rwdOzgl",
        "outputId": "6873ce6f-6300-42bf-bc62-d955af09c60c"
      },
      "execution_count": null,
      "outputs": [
        {
          "output_type": "stream",
          "name": "stdout",
          "text": [
            "Captain | proper noun | Captain\n",
            "america | proper noun | america\n",
            "ate | verb | eat\n",
            "100 | numeral | 100\n",
            "$ | numeral | $\n",
            "of | adposition | of\n",
            "samosa | proper noun | samosa\n",
            ". | punctuation | .\n",
            "Then | adverb | then\n",
            "he | pronoun | he\n",
            "said | verb | say\n",
            "I | pronoun | I\n",
            "can | auxiliary | can\n",
            "do | verb | do\n",
            "this | pronoun | this\n",
            "all | determiner | all\n",
            "day | noun | day\n",
            ". | punctuation | .\n"
          ]
        }
      ]
    },
    {
      "cell_type": "code",
      "source": [
        "#Use ner compponent\n",
        "import spacy\n",
        "nlp=spacy.load('en_core_web_sm')\n",
        "doc = nlp(\"Tesla Inc is going to acquire twitter for $45 billion\")\n",
        "for ent in doc.ents:\n",
        "  print(ent.text,\"|\",spacy.explain(ent.label_))\n",
        "  spacy.explain(ent.label_)\n",
        "\n",
        "for token in doc:\n",
        "  print(token.text,\"|\" ,spacy.explain(token.pos_) ,\"|\",(token.lemma_))\n",
        "from spacy import displacy\n",
        "displacy.render(doc,style=\"dep\")"
      ],
      "metadata": {
        "colab": {
          "base_uri": "https://localhost:8080/",
          "height": 667
        },
        "id": "EJhvlxTmQnEO",
        "outputId": "09c5ccbf-9ffc-49b2-ff9a-b27e8cafa6e2"
      },
      "execution_count": null,
      "outputs": [
        {
          "output_type": "stream",
          "name": "stdout",
          "text": [
            "Tesla Inc | Companies, agencies, institutions, etc.\n",
            "$45 billion | Monetary values, including unit\n",
            "Tesla | proper noun | Tesla\n",
            "Inc | proper noun | Inc\n",
            "is | auxiliary | be\n",
            "going | verb | go\n",
            "to | particle | to\n",
            "acquire | verb | acquire\n",
            "twitter | noun | twitter\n",
            "for | adposition | for\n",
            "$ | symbol | $\n",
            "45 | numeral | 45\n",
            "billion | numeral | billion\n"
          ]
        },
        {
          "output_type": "display_data",
          "data": {
            "text/plain": [
              "<IPython.core.display.HTML object>"
            ],
            "text/html": [
              "<span class=\"tex2jax_ignore\"><svg xmlns=\"http://www.w3.org/2000/svg\" xmlns:xlink=\"http://www.w3.org/1999/xlink\" xml:lang=\"en\" id=\"0348533bcc814e30a776482897db9eb5-0\" class=\"displacy\" width=\"1975\" height=\"399.5\" direction=\"ltr\" style=\"max-width: none; height: 399.5px; color: #000000; background: #ffffff; font-family: Arial; direction: ltr\">\n",
              "<text class=\"displacy-token\" fill=\"currentColor\" text-anchor=\"middle\" y=\"309.5\">\n",
              "    <tspan class=\"displacy-word\" fill=\"currentColor\" x=\"50\">Tesla</tspan>\n",
              "    <tspan class=\"displacy-tag\" dy=\"2em\" fill=\"currentColor\" x=\"50\">PROPN</tspan>\n",
              "</text>\n",
              "\n",
              "<text class=\"displacy-token\" fill=\"currentColor\" text-anchor=\"middle\" y=\"309.5\">\n",
              "    <tspan class=\"displacy-word\" fill=\"currentColor\" x=\"225\">Inc</tspan>\n",
              "    <tspan class=\"displacy-tag\" dy=\"2em\" fill=\"currentColor\" x=\"225\">PROPN</tspan>\n",
              "</text>\n",
              "\n",
              "<text class=\"displacy-token\" fill=\"currentColor\" text-anchor=\"middle\" y=\"309.5\">\n",
              "    <tspan class=\"displacy-word\" fill=\"currentColor\" x=\"400\">is</tspan>\n",
              "    <tspan class=\"displacy-tag\" dy=\"2em\" fill=\"currentColor\" x=\"400\">AUX</tspan>\n",
              "</text>\n",
              "\n",
              "<text class=\"displacy-token\" fill=\"currentColor\" text-anchor=\"middle\" y=\"309.5\">\n",
              "    <tspan class=\"displacy-word\" fill=\"currentColor\" x=\"575\">going</tspan>\n",
              "    <tspan class=\"displacy-tag\" dy=\"2em\" fill=\"currentColor\" x=\"575\">VERB</tspan>\n",
              "</text>\n",
              "\n",
              "<text class=\"displacy-token\" fill=\"currentColor\" text-anchor=\"middle\" y=\"309.5\">\n",
              "    <tspan class=\"displacy-word\" fill=\"currentColor\" x=\"750\">to</tspan>\n",
              "    <tspan class=\"displacy-tag\" dy=\"2em\" fill=\"currentColor\" x=\"750\">PART</tspan>\n",
              "</text>\n",
              "\n",
              "<text class=\"displacy-token\" fill=\"currentColor\" text-anchor=\"middle\" y=\"309.5\">\n",
              "    <tspan class=\"displacy-word\" fill=\"currentColor\" x=\"925\">acquire</tspan>\n",
              "    <tspan class=\"displacy-tag\" dy=\"2em\" fill=\"currentColor\" x=\"925\">VERB</tspan>\n",
              "</text>\n",
              "\n",
              "<text class=\"displacy-token\" fill=\"currentColor\" text-anchor=\"middle\" y=\"309.5\">\n",
              "    <tspan class=\"displacy-word\" fill=\"currentColor\" x=\"1100\">twitter</tspan>\n",
              "    <tspan class=\"displacy-tag\" dy=\"2em\" fill=\"currentColor\" x=\"1100\">NOUN</tspan>\n",
              "</text>\n",
              "\n",
              "<text class=\"displacy-token\" fill=\"currentColor\" text-anchor=\"middle\" y=\"309.5\">\n",
              "    <tspan class=\"displacy-word\" fill=\"currentColor\" x=\"1275\">for</tspan>\n",
              "    <tspan class=\"displacy-tag\" dy=\"2em\" fill=\"currentColor\" x=\"1275\">ADP</tspan>\n",
              "</text>\n",
              "\n",
              "<text class=\"displacy-token\" fill=\"currentColor\" text-anchor=\"middle\" y=\"309.5\">\n",
              "    <tspan class=\"displacy-word\" fill=\"currentColor\" x=\"1450\">$</tspan>\n",
              "    <tspan class=\"displacy-tag\" dy=\"2em\" fill=\"currentColor\" x=\"1450\">SYM</tspan>\n",
              "</text>\n",
              "\n",
              "<text class=\"displacy-token\" fill=\"currentColor\" text-anchor=\"middle\" y=\"309.5\">\n",
              "    <tspan class=\"displacy-word\" fill=\"currentColor\" x=\"1625\">45</tspan>\n",
              "    <tspan class=\"displacy-tag\" dy=\"2em\" fill=\"currentColor\" x=\"1625\">NUM</tspan>\n",
              "</text>\n",
              "\n",
              "<text class=\"displacy-token\" fill=\"currentColor\" text-anchor=\"middle\" y=\"309.5\">\n",
              "    <tspan class=\"displacy-word\" fill=\"currentColor\" x=\"1800\">billion</tspan>\n",
              "    <tspan class=\"displacy-tag\" dy=\"2em\" fill=\"currentColor\" x=\"1800\">NUM</tspan>\n",
              "</text>\n",
              "\n",
              "<g class=\"displacy-arrow\">\n",
              "    <path class=\"displacy-arc\" id=\"arrow-0348533bcc814e30a776482897db9eb5-0-0\" stroke-width=\"2px\" d=\"M70,264.5 C70,177.0 215.0,177.0 215.0,264.5\" fill=\"none\" stroke=\"currentColor\"/>\n",
              "    <text dy=\"1.25em\" style=\"font-size: 0.8em; letter-spacing: 1px\">\n",
              "        <textPath xlink:href=\"#arrow-0348533bcc814e30a776482897db9eb5-0-0\" class=\"displacy-label\" startOffset=\"50%\" side=\"left\" fill=\"currentColor\" text-anchor=\"middle\">compound</textPath>\n",
              "    </text>\n",
              "    <path class=\"displacy-arrowhead\" d=\"M70,266.5 L62,254.5 78,254.5\" fill=\"currentColor\"/>\n",
              "</g>\n",
              "\n",
              "<g class=\"displacy-arrow\">\n",
              "    <path class=\"displacy-arc\" id=\"arrow-0348533bcc814e30a776482897db9eb5-0-1\" stroke-width=\"2px\" d=\"M245,264.5 C245,89.5 570.0,89.5 570.0,264.5\" fill=\"none\" stroke=\"currentColor\"/>\n",
              "    <text dy=\"1.25em\" style=\"font-size: 0.8em; letter-spacing: 1px\">\n",
              "        <textPath xlink:href=\"#arrow-0348533bcc814e30a776482897db9eb5-0-1\" class=\"displacy-label\" startOffset=\"50%\" side=\"left\" fill=\"currentColor\" text-anchor=\"middle\">nsubj</textPath>\n",
              "    </text>\n",
              "    <path class=\"displacy-arrowhead\" d=\"M245,266.5 L237,254.5 253,254.5\" fill=\"currentColor\"/>\n",
              "</g>\n",
              "\n",
              "<g class=\"displacy-arrow\">\n",
              "    <path class=\"displacy-arc\" id=\"arrow-0348533bcc814e30a776482897db9eb5-0-2\" stroke-width=\"2px\" d=\"M420,264.5 C420,177.0 565.0,177.0 565.0,264.5\" fill=\"none\" stroke=\"currentColor\"/>\n",
              "    <text dy=\"1.25em\" style=\"font-size: 0.8em; letter-spacing: 1px\">\n",
              "        <textPath xlink:href=\"#arrow-0348533bcc814e30a776482897db9eb5-0-2\" class=\"displacy-label\" startOffset=\"50%\" side=\"left\" fill=\"currentColor\" text-anchor=\"middle\">aux</textPath>\n",
              "    </text>\n",
              "    <path class=\"displacy-arrowhead\" d=\"M420,266.5 L412,254.5 428,254.5\" fill=\"currentColor\"/>\n",
              "</g>\n",
              "\n",
              "<g class=\"displacy-arrow\">\n",
              "    <path class=\"displacy-arc\" id=\"arrow-0348533bcc814e30a776482897db9eb5-0-3\" stroke-width=\"2px\" d=\"M770,264.5 C770,177.0 915.0,177.0 915.0,264.5\" fill=\"none\" stroke=\"currentColor\"/>\n",
              "    <text dy=\"1.25em\" style=\"font-size: 0.8em; letter-spacing: 1px\">\n",
              "        <textPath xlink:href=\"#arrow-0348533bcc814e30a776482897db9eb5-0-3\" class=\"displacy-label\" startOffset=\"50%\" side=\"left\" fill=\"currentColor\" text-anchor=\"middle\">aux</textPath>\n",
              "    </text>\n",
              "    <path class=\"displacy-arrowhead\" d=\"M770,266.5 L762,254.5 778,254.5\" fill=\"currentColor\"/>\n",
              "</g>\n",
              "\n",
              "<g class=\"displacy-arrow\">\n",
              "    <path class=\"displacy-arc\" id=\"arrow-0348533bcc814e30a776482897db9eb5-0-4\" stroke-width=\"2px\" d=\"M595,264.5 C595,89.5 920.0,89.5 920.0,264.5\" fill=\"none\" stroke=\"currentColor\"/>\n",
              "    <text dy=\"1.25em\" style=\"font-size: 0.8em; letter-spacing: 1px\">\n",
              "        <textPath xlink:href=\"#arrow-0348533bcc814e30a776482897db9eb5-0-4\" class=\"displacy-label\" startOffset=\"50%\" side=\"left\" fill=\"currentColor\" text-anchor=\"middle\">xcomp</textPath>\n",
              "    </text>\n",
              "    <path class=\"displacy-arrowhead\" d=\"M920.0,266.5 L928.0,254.5 912.0,254.5\" fill=\"currentColor\"/>\n",
              "</g>\n",
              "\n",
              "<g class=\"displacy-arrow\">\n",
              "    <path class=\"displacy-arc\" id=\"arrow-0348533bcc814e30a776482897db9eb5-0-5\" stroke-width=\"2px\" d=\"M945,264.5 C945,177.0 1090.0,177.0 1090.0,264.5\" fill=\"none\" stroke=\"currentColor\"/>\n",
              "    <text dy=\"1.25em\" style=\"font-size: 0.8em; letter-spacing: 1px\">\n",
              "        <textPath xlink:href=\"#arrow-0348533bcc814e30a776482897db9eb5-0-5\" class=\"displacy-label\" startOffset=\"50%\" side=\"left\" fill=\"currentColor\" text-anchor=\"middle\">dobj</textPath>\n",
              "    </text>\n",
              "    <path class=\"displacy-arrowhead\" d=\"M1090.0,266.5 L1098.0,254.5 1082.0,254.5\" fill=\"currentColor\"/>\n",
              "</g>\n",
              "\n",
              "<g class=\"displacy-arrow\">\n",
              "    <path class=\"displacy-arc\" id=\"arrow-0348533bcc814e30a776482897db9eb5-0-6\" stroke-width=\"2px\" d=\"M945,264.5 C945,89.5 1270.0,89.5 1270.0,264.5\" fill=\"none\" stroke=\"currentColor\"/>\n",
              "    <text dy=\"1.25em\" style=\"font-size: 0.8em; letter-spacing: 1px\">\n",
              "        <textPath xlink:href=\"#arrow-0348533bcc814e30a776482897db9eb5-0-6\" class=\"displacy-label\" startOffset=\"50%\" side=\"left\" fill=\"currentColor\" text-anchor=\"middle\">prep</textPath>\n",
              "    </text>\n",
              "    <path class=\"displacy-arrowhead\" d=\"M1270.0,266.5 L1278.0,254.5 1262.0,254.5\" fill=\"currentColor\"/>\n",
              "</g>\n",
              "\n",
              "<g class=\"displacy-arrow\">\n",
              "    <path class=\"displacy-arc\" id=\"arrow-0348533bcc814e30a776482897db9eb5-0-7\" stroke-width=\"2px\" d=\"M1470,264.5 C1470,89.5 1795.0,89.5 1795.0,264.5\" fill=\"none\" stroke=\"currentColor\"/>\n",
              "    <text dy=\"1.25em\" style=\"font-size: 0.8em; letter-spacing: 1px\">\n",
              "        <textPath xlink:href=\"#arrow-0348533bcc814e30a776482897db9eb5-0-7\" class=\"displacy-label\" startOffset=\"50%\" side=\"left\" fill=\"currentColor\" text-anchor=\"middle\">quantmod</textPath>\n",
              "    </text>\n",
              "    <path class=\"displacy-arrowhead\" d=\"M1470,266.5 L1462,254.5 1478,254.5\" fill=\"currentColor\"/>\n",
              "</g>\n",
              "\n",
              "<g class=\"displacy-arrow\">\n",
              "    <path class=\"displacy-arc\" id=\"arrow-0348533bcc814e30a776482897db9eb5-0-8\" stroke-width=\"2px\" d=\"M1645,264.5 C1645,177.0 1790.0,177.0 1790.0,264.5\" fill=\"none\" stroke=\"currentColor\"/>\n",
              "    <text dy=\"1.25em\" style=\"font-size: 0.8em; letter-spacing: 1px\">\n",
              "        <textPath xlink:href=\"#arrow-0348533bcc814e30a776482897db9eb5-0-8\" class=\"displacy-label\" startOffset=\"50%\" side=\"left\" fill=\"currentColor\" text-anchor=\"middle\">compound</textPath>\n",
              "    </text>\n",
              "    <path class=\"displacy-arrowhead\" d=\"M1645,266.5 L1637,254.5 1653,254.5\" fill=\"currentColor\"/>\n",
              "</g>\n",
              "\n",
              "<g class=\"displacy-arrow\">\n",
              "    <path class=\"displacy-arc\" id=\"arrow-0348533bcc814e30a776482897db9eb5-0-9\" stroke-width=\"2px\" d=\"M1295,264.5 C1295,2.0 1800.0,2.0 1800.0,264.5\" fill=\"none\" stroke=\"currentColor\"/>\n",
              "    <text dy=\"1.25em\" style=\"font-size: 0.8em; letter-spacing: 1px\">\n",
              "        <textPath xlink:href=\"#arrow-0348533bcc814e30a776482897db9eb5-0-9\" class=\"displacy-label\" startOffset=\"50%\" side=\"left\" fill=\"currentColor\" text-anchor=\"middle\">pobj</textPath>\n",
              "    </text>\n",
              "    <path class=\"displacy-arrowhead\" d=\"M1800.0,266.5 L1808.0,254.5 1792.0,254.5\" fill=\"currentColor\"/>\n",
              "</g>\n",
              "</svg></span>"
            ]
          },
          "metadata": {}
        }
      ]
    },
    {
      "cell_type": "code",
      "source": [
        "import spacy\n",
        "\n",
        "nlp = spacy.load(\"en_core_web_sm\")\n",
        "text = \"Apple was founded by Steve Jobs in California.\"\n",
        "\n",
        "doc = nlp(text)  # Process the text\n",
        "\n",
        "# Tokenization\n",
        "for token in doc:\n",
        "  tokens = [token.text]\n",
        "  print(token.pos_,\"|\",token.lemma_,\"|\",token.text)\n",
        "print(\"Tokens:\", tokens)\n",
        "\n",
        "for token in doc:\n",
        "    print(f\"Token: {token.text}, Head: {token.head.text}, Dependency: {token.dep_}\")\n",
        "\n",
        "from spacy import displacy\n",
        "displacy.render(doc, style=\"dep\", jupyter=True)\n"
      ],
      "metadata": {
        "colab": {
          "base_uri": "https://localhost:8080/",
          "height": 663
        },
        "id": "lExna9Chvs72",
        "outputId": "57c0958e-64cb-4a72-ebd4-b1807bd40fd0"
      },
      "execution_count": 1,
      "outputs": [
        {
          "output_type": "stream",
          "name": "stdout",
          "text": [
            "PROPN | Apple | Apple\n",
            "AUX | be | was\n",
            "VERB | found | founded\n",
            "ADP | by | by\n",
            "PROPN | Steve | Steve\n",
            "PROPN | Jobs | Jobs\n",
            "ADP | in | in\n",
            "PROPN | California | California\n",
            "PUNCT | . | .\n",
            "Tokens: ['.']\n",
            "Token: Apple, Head: founded, Dependency: nsubjpass\n",
            "Token: was, Head: founded, Dependency: auxpass\n",
            "Token: founded, Head: founded, Dependency: ROOT\n",
            "Token: by, Head: founded, Dependency: agent\n",
            "Token: Steve, Head: Jobs, Dependency: compound\n",
            "Token: Jobs, Head: by, Dependency: pobj\n",
            "Token: in, Head: Jobs, Dependency: prep\n",
            "Token: California, Head: in, Dependency: pobj\n",
            "Token: ., Head: founded, Dependency: punct\n"
          ]
        },
        {
          "output_type": "display_data",
          "data": {
            "text/plain": [
              "<IPython.core.display.HTML object>"
            ],
            "text/html": [
              "<span class=\"tex2jax_ignore\"><svg xmlns=\"http://www.w3.org/2000/svg\" xmlns:xlink=\"http://www.w3.org/1999/xlink\" xml:lang=\"en\" id=\"7946437c45774d4b8f585619da0f5be1-0\" class=\"displacy\" width=\"1450\" height=\"312.0\" direction=\"ltr\" style=\"max-width: none; height: 312.0px; color: #000000; background: #ffffff; font-family: Arial; direction: ltr\">\n",
              "<text class=\"displacy-token\" fill=\"currentColor\" text-anchor=\"middle\" y=\"222.0\">\n",
              "    <tspan class=\"displacy-word\" fill=\"currentColor\" x=\"50\">Apple</tspan>\n",
              "    <tspan class=\"displacy-tag\" dy=\"2em\" fill=\"currentColor\" x=\"50\">PROPN</tspan>\n",
              "</text>\n",
              "\n",
              "<text class=\"displacy-token\" fill=\"currentColor\" text-anchor=\"middle\" y=\"222.0\">\n",
              "    <tspan class=\"displacy-word\" fill=\"currentColor\" x=\"225\">was</tspan>\n",
              "    <tspan class=\"displacy-tag\" dy=\"2em\" fill=\"currentColor\" x=\"225\">AUX</tspan>\n",
              "</text>\n",
              "\n",
              "<text class=\"displacy-token\" fill=\"currentColor\" text-anchor=\"middle\" y=\"222.0\">\n",
              "    <tspan class=\"displacy-word\" fill=\"currentColor\" x=\"400\">founded</tspan>\n",
              "    <tspan class=\"displacy-tag\" dy=\"2em\" fill=\"currentColor\" x=\"400\">VERB</tspan>\n",
              "</text>\n",
              "\n",
              "<text class=\"displacy-token\" fill=\"currentColor\" text-anchor=\"middle\" y=\"222.0\">\n",
              "    <tspan class=\"displacy-word\" fill=\"currentColor\" x=\"575\">by</tspan>\n",
              "    <tspan class=\"displacy-tag\" dy=\"2em\" fill=\"currentColor\" x=\"575\">ADP</tspan>\n",
              "</text>\n",
              "\n",
              "<text class=\"displacy-token\" fill=\"currentColor\" text-anchor=\"middle\" y=\"222.0\">\n",
              "    <tspan class=\"displacy-word\" fill=\"currentColor\" x=\"750\">Steve</tspan>\n",
              "    <tspan class=\"displacy-tag\" dy=\"2em\" fill=\"currentColor\" x=\"750\">PROPN</tspan>\n",
              "</text>\n",
              "\n",
              "<text class=\"displacy-token\" fill=\"currentColor\" text-anchor=\"middle\" y=\"222.0\">\n",
              "    <tspan class=\"displacy-word\" fill=\"currentColor\" x=\"925\">Jobs</tspan>\n",
              "    <tspan class=\"displacy-tag\" dy=\"2em\" fill=\"currentColor\" x=\"925\">PROPN</tspan>\n",
              "</text>\n",
              "\n",
              "<text class=\"displacy-token\" fill=\"currentColor\" text-anchor=\"middle\" y=\"222.0\">\n",
              "    <tspan class=\"displacy-word\" fill=\"currentColor\" x=\"1100\">in</tspan>\n",
              "    <tspan class=\"displacy-tag\" dy=\"2em\" fill=\"currentColor\" x=\"1100\">ADP</tspan>\n",
              "</text>\n",
              "\n",
              "<text class=\"displacy-token\" fill=\"currentColor\" text-anchor=\"middle\" y=\"222.0\">\n",
              "    <tspan class=\"displacy-word\" fill=\"currentColor\" x=\"1275\">California.</tspan>\n",
              "    <tspan class=\"displacy-tag\" dy=\"2em\" fill=\"currentColor\" x=\"1275\">PROPN</tspan>\n",
              "</text>\n",
              "\n",
              "<g class=\"displacy-arrow\">\n",
              "    <path class=\"displacy-arc\" id=\"arrow-7946437c45774d4b8f585619da0f5be1-0-0\" stroke-width=\"2px\" d=\"M70,177.0 C70,2.0 400.0,2.0 400.0,177.0\" fill=\"none\" stroke=\"currentColor\"/>\n",
              "    <text dy=\"1.25em\" style=\"font-size: 0.8em; letter-spacing: 1px\">\n",
              "        <textPath xlink:href=\"#arrow-7946437c45774d4b8f585619da0f5be1-0-0\" class=\"displacy-label\" startOffset=\"50%\" side=\"left\" fill=\"currentColor\" text-anchor=\"middle\">nsubjpass</textPath>\n",
              "    </text>\n",
              "    <path class=\"displacy-arrowhead\" d=\"M70,179.0 L62,167.0 78,167.0\" fill=\"currentColor\"/>\n",
              "</g>\n",
              "\n",
              "<g class=\"displacy-arrow\">\n",
              "    <path class=\"displacy-arc\" id=\"arrow-7946437c45774d4b8f585619da0f5be1-0-1\" stroke-width=\"2px\" d=\"M245,177.0 C245,89.5 395.0,89.5 395.0,177.0\" fill=\"none\" stroke=\"currentColor\"/>\n",
              "    <text dy=\"1.25em\" style=\"font-size: 0.8em; letter-spacing: 1px\">\n",
              "        <textPath xlink:href=\"#arrow-7946437c45774d4b8f585619da0f5be1-0-1\" class=\"displacy-label\" startOffset=\"50%\" side=\"left\" fill=\"currentColor\" text-anchor=\"middle\">auxpass</textPath>\n",
              "    </text>\n",
              "    <path class=\"displacy-arrowhead\" d=\"M245,179.0 L237,167.0 253,167.0\" fill=\"currentColor\"/>\n",
              "</g>\n",
              "\n",
              "<g class=\"displacy-arrow\">\n",
              "    <path class=\"displacy-arc\" id=\"arrow-7946437c45774d4b8f585619da0f5be1-0-2\" stroke-width=\"2px\" d=\"M420,177.0 C420,89.5 570.0,89.5 570.0,177.0\" fill=\"none\" stroke=\"currentColor\"/>\n",
              "    <text dy=\"1.25em\" style=\"font-size: 0.8em; letter-spacing: 1px\">\n",
              "        <textPath xlink:href=\"#arrow-7946437c45774d4b8f585619da0f5be1-0-2\" class=\"displacy-label\" startOffset=\"50%\" side=\"left\" fill=\"currentColor\" text-anchor=\"middle\">agent</textPath>\n",
              "    </text>\n",
              "    <path class=\"displacy-arrowhead\" d=\"M570.0,179.0 L578.0,167.0 562.0,167.0\" fill=\"currentColor\"/>\n",
              "</g>\n",
              "\n",
              "<g class=\"displacy-arrow\">\n",
              "    <path class=\"displacy-arc\" id=\"arrow-7946437c45774d4b8f585619da0f5be1-0-3\" stroke-width=\"2px\" d=\"M770,177.0 C770,89.5 920.0,89.5 920.0,177.0\" fill=\"none\" stroke=\"currentColor\"/>\n",
              "    <text dy=\"1.25em\" style=\"font-size: 0.8em; letter-spacing: 1px\">\n",
              "        <textPath xlink:href=\"#arrow-7946437c45774d4b8f585619da0f5be1-0-3\" class=\"displacy-label\" startOffset=\"50%\" side=\"left\" fill=\"currentColor\" text-anchor=\"middle\">compound</textPath>\n",
              "    </text>\n",
              "    <path class=\"displacy-arrowhead\" d=\"M770,179.0 L762,167.0 778,167.0\" fill=\"currentColor\"/>\n",
              "</g>\n",
              "\n",
              "<g class=\"displacy-arrow\">\n",
              "    <path class=\"displacy-arc\" id=\"arrow-7946437c45774d4b8f585619da0f5be1-0-4\" stroke-width=\"2px\" d=\"M595,177.0 C595,2.0 925.0,2.0 925.0,177.0\" fill=\"none\" stroke=\"currentColor\"/>\n",
              "    <text dy=\"1.25em\" style=\"font-size: 0.8em; letter-spacing: 1px\">\n",
              "        <textPath xlink:href=\"#arrow-7946437c45774d4b8f585619da0f5be1-0-4\" class=\"displacy-label\" startOffset=\"50%\" side=\"left\" fill=\"currentColor\" text-anchor=\"middle\">pobj</textPath>\n",
              "    </text>\n",
              "    <path class=\"displacy-arrowhead\" d=\"M925.0,179.0 L933.0,167.0 917.0,167.0\" fill=\"currentColor\"/>\n",
              "</g>\n",
              "\n",
              "<g class=\"displacy-arrow\">\n",
              "    <path class=\"displacy-arc\" id=\"arrow-7946437c45774d4b8f585619da0f5be1-0-5\" stroke-width=\"2px\" d=\"M945,177.0 C945,89.5 1095.0,89.5 1095.0,177.0\" fill=\"none\" stroke=\"currentColor\"/>\n",
              "    <text dy=\"1.25em\" style=\"font-size: 0.8em; letter-spacing: 1px\">\n",
              "        <textPath xlink:href=\"#arrow-7946437c45774d4b8f585619da0f5be1-0-5\" class=\"displacy-label\" startOffset=\"50%\" side=\"left\" fill=\"currentColor\" text-anchor=\"middle\">prep</textPath>\n",
              "    </text>\n",
              "    <path class=\"displacy-arrowhead\" d=\"M1095.0,179.0 L1103.0,167.0 1087.0,167.0\" fill=\"currentColor\"/>\n",
              "</g>\n",
              "\n",
              "<g class=\"displacy-arrow\">\n",
              "    <path class=\"displacy-arc\" id=\"arrow-7946437c45774d4b8f585619da0f5be1-0-6\" stroke-width=\"2px\" d=\"M1120,177.0 C1120,89.5 1270.0,89.5 1270.0,177.0\" fill=\"none\" stroke=\"currentColor\"/>\n",
              "    <text dy=\"1.25em\" style=\"font-size: 0.8em; letter-spacing: 1px\">\n",
              "        <textPath xlink:href=\"#arrow-7946437c45774d4b8f585619da0f5be1-0-6\" class=\"displacy-label\" startOffset=\"50%\" side=\"left\" fill=\"currentColor\" text-anchor=\"middle\">pobj</textPath>\n",
              "    </text>\n",
              "    <path class=\"displacy-arrowhead\" d=\"M1270.0,179.0 L1278.0,167.0 1262.0,167.0\" fill=\"currentColor\"/>\n",
              "</g>\n",
              "</svg></span>"
            ]
          },
          "metadata": {}
        }
      ]
    },
    {
      "cell_type": "code",
      "source": [
        "!pip install nltk"
      ],
      "metadata": {
        "colab": {
          "base_uri": "https://localhost:8080/"
        },
        "id": "R3lUZRgQS18L",
        "outputId": "b2bb8e6d-70a7-4bbe-f3aa-cbe361df659a"
      },
      "execution_count": null,
      "outputs": [
        {
          "output_type": "stream",
          "name": "stdout",
          "text": [
            "Requirement already satisfied: nltk in /usr/local/lib/python3.10/dist-packages (3.8.1)\n",
            "Requirement already satisfied: click in /usr/local/lib/python3.10/dist-packages (from nltk) (8.1.7)\n",
            "Requirement already satisfied: joblib in /usr/local/lib/python3.10/dist-packages (from nltk) (1.4.2)\n",
            "Requirement already satisfied: regex>=2021.8.3 in /usr/local/lib/python3.10/dist-packages (from nltk) (2024.5.15)\n",
            "Requirement already satisfied: tqdm in /usr/local/lib/python3.10/dist-packages (from nltk) (4.66.4)\n"
          ]
        }
      ]
    },
    {
      "cell_type": "code",
      "source": [
        "from nltk import PorterStemmer,SnowballStemmer\n",
        "stemmer = PorterStemmer()\n",
        "stemmer1=SnowballStemmer(\"english\")\n",
        "words = [\"eating\", \"eats\", \"eat\", \"ate\", \"adjustable\", \"rafting\", \"ability\", \"meeting\"]\n",
        "\n",
        "for word in words:\n",
        "  print(\"Porter:\",word ,\"|\",stemmer.stem(word))\n",
        "  print(\"Snowball:\",word ,\"|\",stemmer1.stem(word))\n",
        "\n",
        "nlp = spacy.load(\"en_core_web_sm\")\n",
        "words = nlp(\"eating eats eat ate adjustable rafting ability meeting better well short medium modify be\")\n",
        "for word in words:\n",
        "  print(word.text, \"|\",word.lemma_)\n"
      ],
      "metadata": {
        "colab": {
          "base_uri": "https://localhost:8080/"
        },
        "id": "32Koz7Jee-k8",
        "outputId": "10107565-0f02-40c0-e7e2-2aecce44111f"
      },
      "execution_count": null,
      "outputs": [
        {
          "output_type": "stream",
          "name": "stdout",
          "text": [
            "Porter: eating | eat\n",
            "Snowball: eating | eat\n",
            "Porter: eats | eat\n",
            "Snowball: eats | eat\n",
            "Porter: eat | eat\n",
            "Snowball: eat | eat\n",
            "Porter: ate | ate\n",
            "Snowball: ate | ate\n",
            "Porter: adjustable | adjust\n",
            "Snowball: adjustable | adjust\n",
            "Porter: rafting | raft\n",
            "Snowball: rafting | raft\n",
            "Porter: ability | abil\n",
            "Snowball: ability | abil\n",
            "Porter: meeting | meet\n",
            "Snowball: meeting | meet\n",
            "eating | eat\n",
            "eats | eat\n",
            "eat | eat\n",
            "ate | eat\n",
            "adjustable | adjustable\n",
            "rafting | raft\n",
            "ability | ability\n",
            "meeting | meeting\n",
            "better | well\n",
            "well | well\n",
            "short | short\n",
            "medium | medium\n",
            "modify | modify\n",
            "be | be\n"
          ]
        }
      ]
    },
    {
      "cell_type": "code",
      "source": [
        "nlp.pipe_names"
      ],
      "metadata": {
        "colab": {
          "base_uri": "https://localhost:8080/"
        },
        "id": "HwUVJuNglSXE",
        "outputId": "a3956fdf-9a6f-4453-ae13-3a9b5306870e"
      },
      "execution_count": null,
      "outputs": [
        {
          "output_type": "execute_result",
          "data": {
            "text/plain": [
              "['tok2vec', 'tagger', 'parser', 'attribute_ruler', 'lemmatizer', 'ner']"
            ]
          },
          "metadata": {},
          "execution_count": 38
        }
      ]
    },
    {
      "cell_type": "code",
      "source": [
        "#To modify behaviour of words .To make it understand the language slag\n",
        "attribute = nlp.get_pipe(\"attribute_ruler\")\n",
        "attribute.add([[{\"Text\":\"Bro\"}],[{\"Text\":\"Brah\"}]],{\"LEMMA\":\"Brother\"})\n",
        "attribute.add([[{\"Text\":\"wanna\"}]],{\"LEMMA\":\"want to\"})\n",
        "\n",
        "doc = nlp(\"Bro, you wanna go? Brah, don't say no! I am exhausted\")\n",
        "for token in doc:\n",
        "  print(token,\"|\",token.lemma_)"
      ],
      "metadata": {
        "colab": {
          "base_uri": "https://localhost:8080/"
        },
        "collapsed": true,
        "id": "jsITD4KNi18U",
        "outputId": "2ac3e314-5252-4cde-88ac-6a8c8abaefe3"
      },
      "execution_count": null,
      "outputs": [
        {
          "output_type": "stream",
          "name": "stdout",
          "text": [
            "Bro | Brother\n",
            ", | ,\n",
            "you | you\n",
            "wanna | want to\n",
            "go | go\n",
            "? | ?\n",
            "Brah | Brother\n",
            ", | ,\n",
            "do | do\n",
            "n't | not\n",
            "say | say\n",
            "no | no\n",
            "! | !\n",
            "I | I\n",
            "am | be\n",
            "exhausted | exhaust\n"
          ]
        }
      ]
    },
    {
      "cell_type": "markdown",
      "source": [
        "\n",
        "\n",
        "    Convert these list of words into base form using Stemming and Lemmatization and observe the transformations\n",
        "    Write a short note on the words that have different base words using stemming and Lemmatization\n"
      ],
      "metadata": {
        "id": "aOsAN5c7ns7l"
      }
    },
    {
      "cell_type": "code",
      "source": [
        "#Exercise\n",
        "from nltk import PorterStemmer\n",
        "nlp = spacy.load(\"en_core_web_sm\")\n",
        "stemmer = PorterStemmer()\n",
        "\n",
        "lst_words = ['running', 'painting', 'walking', 'dressing', 'likely', 'children', 'whom', 'good', 'ate', 'fishing']\n",
        "\n",
        "for word in lst_words:\n",
        "  print(\"Stemming:\",word ,\"|\",stemmer.stem(word))\n",
        "\n",
        "\n",
        "doc = nlp(\"running painting walking dressing likely children who good ate fishing\")\n",
        "for word in doc:\n",
        "  print(\"Lemmatization:\",word ,\"|\",word.lemma_)"
      ],
      "metadata": {
        "colab": {
          "base_uri": "https://localhost:8080/"
        },
        "id": "Ts711yUAnew5",
        "outputId": "c3274ea9-c143-4f74-9494-74f5d0378a51"
      },
      "execution_count": null,
      "outputs": [
        {
          "output_type": "stream",
          "name": "stdout",
          "text": [
            "Stemming: running | run\n",
            "Stemming: painting | paint\n",
            "Stemming: walking | walk\n",
            "Stemming: dressing | dress\n",
            "Stemming: likely | like\n",
            "Stemming: children | children\n",
            "Stemming: whom | whom\n",
            "Stemming: good | good\n",
            "Stemming: ate | ate\n",
            "Stemming: fishing | fish\n",
            "Lemmatization: running | run\n",
            "Lemmatization: painting | paint\n",
            "Lemmatization: walking | walk\n",
            "Lemmatization: dressing | dress\n",
            "Lemmatization: likely | likely\n",
            "Lemmatization: children | child\n",
            "Lemmatization: who | who\n",
            "Lemmatization: good | good\n",
            "Lemmatization: ate | eat\n",
            "Lemmatization: fishing | fishing\n"
          ]
        }
      ]
    },
    {
      "cell_type": "markdown",
      "source": [
        "convert the given text into it's base form using both stemming and lemmatization"
      ],
      "metadata": {
        "id": "WzCaQIjboik_"
      }
    },
    {
      "cell_type": "code",
      "source": [
        "!pip install nltk\n",
        "nltk.download('punkt')"
      ],
      "metadata": {
        "collapsed": true,
        "colab": {
          "base_uri": "https://localhost:8080/"
        },
        "id": "2PWaf0cpO_aS",
        "outputId": "0ff90b23-b0a5-40ec-c548-7753c6738d00"
      },
      "execution_count": null,
      "outputs": [
        {
          "output_type": "stream",
          "name": "stdout",
          "text": [
            "Requirement already satisfied: nltk in /usr/local/lib/python3.10/dist-packages (3.8.1)\n",
            "Requirement already satisfied: click in /usr/local/lib/python3.10/dist-packages (from nltk) (8.1.7)\n",
            "Requirement already satisfied: joblib in /usr/local/lib/python3.10/dist-packages (from nltk) (1.4.2)\n",
            "Requirement already satisfied: regex>=2021.8.3 in /usr/local/lib/python3.10/dist-packages (from nltk) (2024.5.15)\n",
            "Requirement already satisfied: tqdm in /usr/local/lib/python3.10/dist-packages (from nltk) (4.66.4)\n"
          ]
        },
        {
          "output_type": "stream",
          "name": "stderr",
          "text": [
            "[nltk_data] Downloading package punkt to /root/nltk_data...\n",
            "[nltk_data]   Unzipping tokenizers/punkt.zip.\n"
          ]
        },
        {
          "output_type": "execute_result",
          "data": {
            "text/plain": [
              "True"
            ]
          },
          "metadata": {},
          "execution_count": 9
        }
      ]
    },
    {
      "cell_type": "code",
      "source": [
        "# using stemming\n",
        "import nltk\n",
        "from nltk.stem import PorterStemmer\n",
        "stemmer = PorterStemmer()\n",
        "text = \"\"\"Latha is very multi talented girl.She is good at many skills like dancing, running, singing, playing.She also likes eating Pav Bhagi. she has a\n",
        "habit of fishing and swimming too.Besides all this, she is a wonderful at cooking too.\n",
        "\"\"\"\n",
        "all_words = nltk.word_tokenize(text)\n",
        "all_base_words =[]\n",
        "\n",
        "for token in all_words:\n",
        "  base_words = stemmer.stem(token)\n",
        "  all_base_words.append(base_words)\n",
        "final_text =\" \".join(all_base_words)\n",
        "print(final_text)\n",
        "\n",
        "\n"
      ],
      "metadata": {
        "colab": {
          "base_uri": "https://localhost:8080/"
        },
        "id": "fcT2cWFGogv6",
        "outputId": "85789434-1a8c-4240-d6be-9f3f9a0a6a75"
      },
      "execution_count": null,
      "outputs": [
        {
          "output_type": "stream",
          "name": "stdout",
          "text": [
            "latha is veri multi talent girl.sh is good at mani skill like danc , run , sing , playing.sh also like eat pav bhagi . she ha a habit of fish and swim too.besid all thi , she is a wonder at cook too .\n"
          ]
        }
      ]
    },
    {
      "cell_type": "code",
      "source": [
        "import spacy\n",
        "nlp = spacy.load(\"en_core_web_sm\")\n",
        "doc=nlp(text)\n",
        "all_base_words =[]\n",
        "\n",
        "for word in doc:\n",
        "  base_words = word.lemma_\n",
        "  all_base_words.append(base_words)\n",
        "final_text = \" \".join(all_base_words)\n",
        "print(final_text)"
      ],
      "metadata": {
        "colab": {
          "base_uri": "https://localhost:8080/"
        },
        "id": "yX2TJa38Mry6",
        "outputId": "b9b422ad-5b9b-48a7-9652-612abbe5564b"
      },
      "execution_count": null,
      "outputs": [
        {
          "output_type": "stream",
          "name": "stdout",
          "text": [
            "Latha be very multi talented girl . she be good at many skill like dancing , running , singing , play . she also like eat Pav Bhagi . she have a \n",
            " habit of fishing and swim too . besides all this , she be a wonderful at cook too . \n",
            "\n"
          ]
        }
      ]
    },
    {
      "cell_type": "markdown",
      "source": [
        "\n",
        "\n",
        "You can check https://v2.spacy.io/api/annotation for the complete list of pos categories in spacy.\n",
        "\n",
        "https://en.wikipedia.org/wiki/Preposition_and_postposition\n",
        "\n",
        "https://en.wikipedia.org/wiki/Part_of_speech\n"
      ],
      "metadata": {
        "id": "bXg5aGYDoGUs"
      }
    },
    {
      "cell_type": "code",
      "source": [
        "import spacy\n",
        "nlp = spacy.load(\"en_core_web_sm\")\n",
        "doc = nlp(\"Wow! Dr. Strange made 265 million $ on the very first day\")\n",
        "\n",
        "for token in doc:\n",
        "    print(token,\" | \", token.pos_, \" | \", spacy.explain(token.pos_), \" | \", token.tag_, \" | \", spacy.explain(token.tag_))"
      ],
      "metadata": {
        "colab": {
          "base_uri": "https://localhost:8080/"
        },
        "id": "tmoB4bvBoJh-",
        "outputId": "dd3e65d3-95ab-4491-f3bb-aa2536c4a361"
      },
      "execution_count": null,
      "outputs": [
        {
          "output_type": "stream",
          "name": "stdout",
          "text": [
            "Wow  |  INTJ  |  interjection  |  UH  |  interjection\n",
            "!  |  PUNCT  |  punctuation  |  .  |  punctuation mark, sentence closer\n",
            "Dr.  |  PROPN  |  proper noun  |  NNP  |  noun, proper singular\n",
            "Strange  |  PROPN  |  proper noun  |  NNP  |  noun, proper singular\n",
            "made  |  VERB  |  verb  |  VBD  |  verb, past tense\n",
            "265  |  NUM  |  numeral  |  CD  |  cardinal number\n",
            "million  |  NUM  |  numeral  |  CD  |  cardinal number\n",
            "$  |  NUM  |  numeral  |  CD  |  cardinal number\n",
            "on  |  ADP  |  adposition  |  IN  |  conjunction, subordinating or preposition\n",
            "the  |  DET  |  determiner  |  DT  |  determiner\n",
            "very  |  ADV  |  adverb  |  RB  |  adverb\n",
            "first  |  ADJ  |  adjective  |  JJ  |  adjective (English), other noun-modifier (Chinese)\n",
            "day  |  NOUN  |  noun  |  NN  |  noun, singular or mass\n"
          ]
        }
      ]
    },
    {
      "cell_type": "markdown",
      "source": [
        "Removing all SPACE, PUNCT and X token from text"
      ],
      "metadata": {
        "id": "S8gjhKudo6kd"
      }
    },
    {
      "cell_type": "code",
      "source": [
        "earnings_text=\"\"\"Microsoft Corp. today announced the following results for the quarter ended December 31, 2021, as compared to the corresponding period of last fiscal year:\n",
        "\n",
        "·         Revenue was $51.7 billion and increased 20%\n",
        "·         Operating income was $22.2 billion and increased 24%\n",
        "·         Net income was $18.8 billion and increased 21%\n",
        "·         Diluted earnings per share was $2.48 and increased 22%\n",
        "“Digital technology is the most malleable resource at the world’s disposal to overcome constraints and reimagine everyday work and life,” said Satya Nadella, chairman and chief executive officer of Microsoft. “As tech as a percentage of global GDP continues to increase, we are innovating and investing across diverse and growing markets, with a common underlying technology stack and an operating model that reinforces a common strategy, culture, and sense of purpose.”\n",
        "“Solid commercial execution, represented by strong bookings growth driven by long-term Azure commitments, increased Microsoft Cloud revenue to $22.1 billion, up 32% year over year” said Amy Hood, executive vice president and chief financial officer of Microsoft.\"\"\"\n",
        "\n",
        "doc =nlp(earnings_text)\n",
        "new_text = []\n",
        "for i in doc:\n",
        "  print(i.text,\"|\",i.pos_,\"|\",spacy.explain(i.pos_))\n",
        "\n",
        "\n",
        "for i in doc:\n",
        "  if i.pos_ not in [\"SPACE\",\"PUNCT\",\"X\"]:\n",
        "    new_text.append(i)\n",
        "\n",
        "print(f\"Removing:{new_text}\")\n"
      ],
      "metadata": {
        "colab": {
          "base_uri": "https://localhost:8080/"
        },
        "id": "4qHPw1I0omHs",
        "outputId": "35ee1155-894d-4b95-ae51-9ac910e4e14a"
      },
      "execution_count": null,
      "outputs": [
        {
          "output_type": "stream",
          "name": "stdout",
          "text": [
            "Microsoft | PROPN | proper noun\n",
            "Corp. | PROPN | proper noun\n",
            "today | NOUN | noun\n",
            "announced | VERB | verb\n",
            "the | DET | determiner\n",
            "following | VERB | verb\n",
            "results | NOUN | noun\n",
            "for | ADP | adposition\n",
            "the | DET | determiner\n",
            "quarter | NOUN | noun\n",
            "ended | VERB | verb\n",
            "December | PROPN | proper noun\n",
            "31 | NUM | numeral\n",
            ", | PUNCT | punctuation\n",
            "2021 | NUM | numeral\n",
            ", | PUNCT | punctuation\n",
            "as | SCONJ | subordinating conjunction\n",
            "compared | VERB | verb\n",
            "to | ADP | adposition\n",
            "the | DET | determiner\n",
            "corresponding | ADJ | adjective\n",
            "period | NOUN | noun\n",
            "of | ADP | adposition\n",
            "last | ADJ | adjective\n",
            "fiscal | ADJ | adjective\n",
            "year | NOUN | noun\n",
            ": | PUNCT | punctuation\n",
            "\n",
            "\n",
            " | SPACE | space\n",
            "· | PUNCT | punctuation\n",
            "         | SPACE | space\n",
            "Revenue | NOUN | noun\n",
            "was | AUX | auxiliary\n",
            "$ | SYM | symbol\n",
            "51.7 | NUM | numeral\n",
            "billion | NUM | numeral\n",
            "and | CCONJ | coordinating conjunction\n",
            "increased | VERB | verb\n",
            "20 | NUM | numeral\n",
            "% | NOUN | noun\n",
            "\n",
            " | SPACE | space\n",
            "· | PUNCT | punctuation\n",
            "         | SPACE | space\n",
            "Operating | VERB | verb\n",
            "income | NOUN | noun\n",
            "was | AUX | auxiliary\n",
            "$ | SYM | symbol\n",
            "22.2 | NUM | numeral\n",
            "billion | NUM | numeral\n",
            "and | CCONJ | coordinating conjunction\n",
            "increased | VERB | verb\n",
            "24 | NUM | numeral\n",
            "% | NOUN | noun\n",
            "\n",
            " | SPACE | space\n",
            "· | PUNCT | punctuation\n",
            "         | SPACE | space\n",
            "Net | ADJ | adjective\n",
            "income | NOUN | noun\n",
            "was | AUX | auxiliary\n",
            "$ | SYM | symbol\n",
            "18.8 | NUM | numeral\n",
            "billion | NUM | numeral\n",
            "and | CCONJ | coordinating conjunction\n",
            "increased | VERB | verb\n",
            "21 | NUM | numeral\n",
            "% | NOUN | noun\n",
            "\n",
            " | SPACE | space\n",
            "· | PUNCT | punctuation\n",
            "         | SPACE | space\n",
            "Diluted | VERB | verb\n",
            "earnings | NOUN | noun\n",
            "per | ADP | adposition\n",
            "share | NOUN | noun\n",
            "was | AUX | auxiliary\n",
            "$ | SYM | symbol\n",
            "2.48 | NUM | numeral\n",
            "and | CCONJ | coordinating conjunction\n",
            "increased | VERB | verb\n",
            "22 | NUM | numeral\n",
            "% | NOUN | noun\n",
            "\n",
            " | SPACE | space\n",
            "“ | PUNCT | punctuation\n",
            "Digital | PROPN | proper noun\n",
            "technology | NOUN | noun\n",
            "is | AUX | auxiliary\n",
            "the | DET | determiner\n",
            "most | ADV | adverb\n",
            "malleable | ADJ | adjective\n",
            "resource | NOUN | noun\n",
            "at | ADP | adposition\n",
            "the | DET | determiner\n",
            "world | NOUN | noun\n",
            "’s | PART | particle\n",
            "disposal | NOUN | noun\n",
            "to | PART | particle\n",
            "overcome | VERB | verb\n",
            "constraints | NOUN | noun\n",
            "and | CCONJ | coordinating conjunction\n",
            "reimagine | VERB | verb\n",
            "everyday | ADJ | adjective\n",
            "work | NOUN | noun\n",
            "and | CCONJ | coordinating conjunction\n",
            "life | NOUN | noun\n",
            ", | PUNCT | punctuation\n",
            "” | PUNCT | punctuation\n",
            "said | VERB | verb\n",
            "Satya | PROPN | proper noun\n",
            "Nadella | PROPN | proper noun\n",
            ", | PUNCT | punctuation\n",
            "chairman | NOUN | noun\n",
            "and | CCONJ | coordinating conjunction\n",
            "chief | ADJ | adjective\n",
            "executive | ADJ | adjective\n",
            "officer | NOUN | noun\n",
            "of | ADP | adposition\n",
            "Microsoft | PROPN | proper noun\n",
            ". | PUNCT | punctuation\n",
            "“ | PUNCT | punctuation\n",
            "As | ADV | adverb\n",
            "tech | NOUN | noun\n",
            "as | ADP | adposition\n",
            "a | DET | determiner\n",
            "percentage | NOUN | noun\n",
            "of | ADP | adposition\n",
            "global | ADJ | adjective\n",
            "GDP | PROPN | proper noun\n",
            "continues | VERB | verb\n",
            "to | PART | particle\n",
            "increase | VERB | verb\n",
            ", | PUNCT | punctuation\n",
            "we | PRON | pronoun\n",
            "are | AUX | auxiliary\n",
            "innovating | VERB | verb\n",
            "and | CCONJ | coordinating conjunction\n",
            "investing | VERB | verb\n",
            "across | ADP | adposition\n",
            "diverse | ADJ | adjective\n",
            "and | CCONJ | coordinating conjunction\n",
            "growing | VERB | verb\n",
            "markets | NOUN | noun\n",
            ", | PUNCT | punctuation\n",
            "with | ADP | adposition\n",
            "a | DET | determiner\n",
            "common | ADJ | adjective\n",
            "underlying | VERB | verb\n",
            "technology | NOUN | noun\n",
            "stack | NOUN | noun\n",
            "and | CCONJ | coordinating conjunction\n",
            "an | DET | determiner\n",
            "operating | NOUN | noun\n",
            "model | NOUN | noun\n",
            "that | PRON | pronoun\n",
            "reinforces | VERB | verb\n",
            "a | DET | determiner\n",
            "common | ADJ | adjective\n",
            "strategy | NOUN | noun\n",
            ", | PUNCT | punctuation\n",
            "culture | NOUN | noun\n",
            ", | PUNCT | punctuation\n",
            "and | CCONJ | coordinating conjunction\n",
            "sense | NOUN | noun\n",
            "of | ADP | adposition\n",
            "purpose | NOUN | noun\n",
            ". | PUNCT | punctuation\n",
            "” | PUNCT | punctuation\n",
            "\n",
            " | SPACE | space\n",
            "“ | PUNCT | punctuation\n",
            "Solid | ADJ | adjective\n",
            "commercial | ADJ | adjective\n",
            "execution | NOUN | noun\n",
            ", | PUNCT | punctuation\n",
            "represented | VERB | verb\n",
            "by | ADP | adposition\n",
            "strong | ADJ | adjective\n",
            "bookings | NOUN | noun\n",
            "growth | NOUN | noun\n",
            "driven | VERB | verb\n",
            "by | ADP | adposition\n",
            "long | ADJ | adjective\n",
            "- | PUNCT | punctuation\n",
            "term | NOUN | noun\n",
            "Azure | ADJ | adjective\n",
            "commitments | NOUN | noun\n",
            ", | PUNCT | punctuation\n",
            "increased | VERB | verb\n",
            "Microsoft | PROPN | proper noun\n",
            "Cloud | PROPN | proper noun\n",
            "revenue | NOUN | noun\n",
            "to | ADP | adposition\n",
            "$ | SYM | symbol\n",
            "22.1 | NUM | numeral\n",
            "billion | NUM | numeral\n",
            ", | PUNCT | punctuation\n",
            "up | ADV | adverb\n",
            "32 | NUM | numeral\n",
            "% | NOUN | noun\n",
            "year | NOUN | noun\n",
            "over | ADP | adposition\n",
            "year | NOUN | noun\n",
            "” | PUNCT | punctuation\n",
            "said | VERB | verb\n",
            "Amy | PROPN | proper noun\n",
            "Hood | PROPN | proper noun\n",
            ", | PUNCT | punctuation\n",
            "executive | ADJ | adjective\n",
            "vice | NOUN | noun\n",
            "president | NOUN | noun\n",
            "and | CCONJ | coordinating conjunction\n",
            "chief | ADJ | adjective\n",
            "financial | ADJ | adjective\n",
            "officer | NOUN | noun\n",
            "of | ADP | adposition\n",
            "Microsoft | PROPN | proper noun\n",
            ". | PUNCT | punctuation\n",
            "Removing:[Microsoft, Corp., today, announced, the, following, results, for, the, quarter, ended, December, 31, 2021, as, compared, to, the, corresponding, period, of, last, fiscal, year, Revenue, was, $, 51.7, billion, and, increased, 20, %, Operating, income, was, $, 22.2, billion, and, increased, 24, %, Net, income, was, $, 18.8, billion, and, increased, 21, %, Diluted, earnings, per, share, was, $, 2.48, and, increased, 22, %, Digital, technology, is, the, most, malleable, resource, at, the, world, ’s, disposal, to, overcome, constraints, and, reimagine, everyday, work, and, life, said, Satya, Nadella, chairman, and, chief, executive, officer, of, Microsoft, As, tech, as, a, percentage, of, global, GDP, continues, to, increase, we, are, innovating, and, investing, across, diverse, and, growing, markets, with, a, common, underlying, technology, stack, and, an, operating, model, that, reinforces, a, common, strategy, culture, and, sense, of, purpose, Solid, commercial, execution, represented, by, strong, bookings, growth, driven, by, long, term, Azure, commitments, increased, Microsoft, Cloud, revenue, to, $, 22.1, billion, up, 32, %, year, over, year, said, Amy, Hood, executive, vice, president, and, chief, financial, officer, of, Microsoft]\n"
          ]
        }
      ]
    },
    {
      "cell_type": "code",
      "source": [
        "for elem in new_text:\n",
        "     print(elem.text,\"|\",elem.pos_,\"|\",spacy.explain(elem.pos_),\"|\",spacy.explain(elem.tag_))\n"
      ],
      "metadata": {
        "colab": {
          "base_uri": "https://localhost:8080/"
        },
        "id": "WLMhJcLCopUj",
        "outputId": "5e8121da-3ab9-4890-9bf7-82c4641b12e4"
      },
      "execution_count": null,
      "outputs": [
        {
          "output_type": "stream",
          "name": "stdout",
          "text": [
            "Microsoft | PROPN | proper noun | noun, proper singular\n",
            "Corp. | PROPN | proper noun | noun, proper singular\n",
            "today | NOUN | noun | noun, singular or mass\n",
            "announced | VERB | verb | verb, past tense\n",
            "the | DET | determiner | determiner\n",
            "following | VERB | verb | verb, gerund or present participle\n",
            "results | NOUN | noun | noun, plural\n",
            "for | ADP | adposition | conjunction, subordinating or preposition\n",
            "the | DET | determiner | determiner\n",
            "quarter | NOUN | noun | noun, singular or mass\n",
            "ended | VERB | verb | verb, past tense\n",
            "December | PROPN | proper noun | noun, proper singular\n",
            "31 | NUM | numeral | cardinal number\n",
            "2021 | NUM | numeral | cardinal number\n",
            "as | SCONJ | subordinating conjunction | conjunction, subordinating or preposition\n",
            "compared | VERB | verb | verb, past participle\n",
            "to | ADP | adposition | conjunction, subordinating or preposition\n",
            "the | DET | determiner | determiner\n",
            "corresponding | ADJ | adjective | adjective (English), other noun-modifier (Chinese)\n",
            "period | NOUN | noun | noun, singular or mass\n",
            "of | ADP | adposition | conjunction, subordinating or preposition\n",
            "last | ADJ | adjective | adjective (English), other noun-modifier (Chinese)\n",
            "fiscal | ADJ | adjective | adjective (English), other noun-modifier (Chinese)\n",
            "year | NOUN | noun | noun, singular or mass\n",
            "Revenue | NOUN | noun | noun, singular or mass\n",
            "was | AUX | auxiliary | verb, past tense\n",
            "$ | SYM | symbol | symbol, currency\n",
            "51.7 | NUM | numeral | cardinal number\n",
            "billion | NUM | numeral | cardinal number\n",
            "and | CCONJ | coordinating conjunction | conjunction, coordinating\n",
            "increased | VERB | verb | verb, past tense\n",
            "20 | NUM | numeral | cardinal number\n",
            "% | NOUN | noun | noun, singular or mass\n",
            "Operating | VERB | verb | verb, gerund or present participle\n",
            "income | NOUN | noun | noun, singular or mass\n",
            "was | AUX | auxiliary | verb, past tense\n",
            "$ | SYM | symbol | symbol, currency\n",
            "22.2 | NUM | numeral | cardinal number\n",
            "billion | NUM | numeral | cardinal number\n",
            "and | CCONJ | coordinating conjunction | conjunction, coordinating\n",
            "increased | VERB | verb | verb, past tense\n",
            "24 | NUM | numeral | cardinal number\n",
            "% | NOUN | noun | noun, singular or mass\n",
            "Net | ADJ | adjective | adjective (English), other noun-modifier (Chinese)\n",
            "income | NOUN | noun | noun, singular or mass\n",
            "was | AUX | auxiliary | verb, past tense\n",
            "$ | SYM | symbol | symbol, currency\n",
            "18.8 | NUM | numeral | cardinal number\n",
            "billion | NUM | numeral | cardinal number\n",
            "and | CCONJ | coordinating conjunction | conjunction, coordinating\n",
            "increased | VERB | verb | verb, past tense\n",
            "21 | NUM | numeral | cardinal number\n",
            "% | NOUN | noun | noun, singular or mass\n",
            "Diluted | VERB | verb | verb, past participle\n",
            "earnings | NOUN | noun | noun, plural\n",
            "per | ADP | adposition | conjunction, subordinating or preposition\n",
            "share | NOUN | noun | noun, singular or mass\n",
            "was | AUX | auxiliary | verb, past tense\n",
            "$ | SYM | symbol | symbol, currency\n",
            "2.48 | NUM | numeral | cardinal number\n",
            "and | CCONJ | coordinating conjunction | conjunction, coordinating\n",
            "increased | VERB | verb | verb, past tense\n",
            "22 | NUM | numeral | cardinal number\n",
            "% | NOUN | noun | noun, singular or mass\n",
            "Digital | PROPN | proper noun | noun, proper singular\n",
            "technology | NOUN | noun | noun, singular or mass\n",
            "is | AUX | auxiliary | verb, 3rd person singular present\n",
            "the | DET | determiner | determiner\n",
            "most | ADV | adverb | adverb, superlative\n",
            "malleable | ADJ | adjective | adjective (English), other noun-modifier (Chinese)\n",
            "resource | NOUN | noun | noun, singular or mass\n",
            "at | ADP | adposition | conjunction, subordinating or preposition\n",
            "the | DET | determiner | determiner\n",
            "world | NOUN | noun | noun, singular or mass\n",
            "’s | PART | particle | possessive ending\n",
            "disposal | NOUN | noun | noun, singular or mass\n",
            "to | PART | particle | infinitival \"to\"\n",
            "overcome | VERB | verb | verb, base form\n",
            "constraints | NOUN | noun | noun, plural\n",
            "and | CCONJ | coordinating conjunction | conjunction, coordinating\n",
            "reimagine | VERB | verb | verb, base form\n",
            "everyday | ADJ | adjective | adjective (English), other noun-modifier (Chinese)\n",
            "work | NOUN | noun | noun, singular or mass\n",
            "and | CCONJ | coordinating conjunction | conjunction, coordinating\n",
            "life | NOUN | noun | noun, singular or mass\n",
            "said | VERB | verb | verb, past tense\n",
            "Satya | PROPN | proper noun | noun, proper singular\n",
            "Nadella | PROPN | proper noun | noun, proper singular\n",
            "chairman | NOUN | noun | noun, singular or mass\n",
            "and | CCONJ | coordinating conjunction | conjunction, coordinating\n",
            "chief | ADJ | adjective | adjective (English), other noun-modifier (Chinese)\n",
            "executive | ADJ | adjective | adjective (English), other noun-modifier (Chinese)\n",
            "officer | NOUN | noun | noun, singular or mass\n",
            "of | ADP | adposition | conjunction, subordinating or preposition\n",
            "Microsoft | PROPN | proper noun | noun, proper singular\n",
            "As | ADV | adverb | adverb\n",
            "tech | NOUN | noun | noun, singular or mass\n",
            "as | ADP | adposition | conjunction, subordinating or preposition\n",
            "a | DET | determiner | determiner\n",
            "percentage | NOUN | noun | noun, singular or mass\n",
            "of | ADP | adposition | conjunction, subordinating or preposition\n",
            "global | ADJ | adjective | adjective (English), other noun-modifier (Chinese)\n",
            "GDP | PROPN | proper noun | noun, proper singular\n",
            "continues | VERB | verb | verb, 3rd person singular present\n",
            "to | PART | particle | infinitival \"to\"\n",
            "increase | VERB | verb | verb, base form\n",
            "we | PRON | pronoun | pronoun, personal\n",
            "are | AUX | auxiliary | verb, non-3rd person singular present\n",
            "innovating | VERB | verb | verb, gerund or present participle\n",
            "and | CCONJ | coordinating conjunction | conjunction, coordinating\n",
            "investing | VERB | verb | verb, gerund or present participle\n",
            "across | ADP | adposition | conjunction, subordinating or preposition\n",
            "diverse | ADJ | adjective | adjective (English), other noun-modifier (Chinese)\n",
            "and | CCONJ | coordinating conjunction | conjunction, coordinating\n",
            "growing | VERB | verb | verb, gerund or present participle\n",
            "markets | NOUN | noun | noun, plural\n",
            "with | ADP | adposition | conjunction, subordinating or preposition\n",
            "a | DET | determiner | determiner\n",
            "common | ADJ | adjective | adjective (English), other noun-modifier (Chinese)\n",
            "underlying | VERB | verb | verb, gerund or present participle\n",
            "technology | NOUN | noun | noun, singular or mass\n",
            "stack | NOUN | noun | noun, singular or mass\n",
            "and | CCONJ | coordinating conjunction | conjunction, coordinating\n",
            "an | DET | determiner | determiner\n",
            "operating | NOUN | noun | noun, singular or mass\n",
            "model | NOUN | noun | noun, singular or mass\n",
            "that | PRON | pronoun | wh-determiner\n",
            "reinforces | VERB | verb | verb, 3rd person singular present\n",
            "a | DET | determiner | determiner\n",
            "common | ADJ | adjective | adjective (English), other noun-modifier (Chinese)\n",
            "strategy | NOUN | noun | noun, singular or mass\n",
            "culture | NOUN | noun | noun, singular or mass\n",
            "and | CCONJ | coordinating conjunction | conjunction, coordinating\n",
            "sense | NOUN | noun | noun, singular or mass\n",
            "of | ADP | adposition | conjunction, subordinating or preposition\n",
            "purpose | NOUN | noun | noun, singular or mass\n",
            "Solid | ADJ | adjective | adjective (English), other noun-modifier (Chinese)\n",
            "commercial | ADJ | adjective | adjective (English), other noun-modifier (Chinese)\n",
            "execution | NOUN | noun | noun, singular or mass\n",
            "represented | VERB | verb | verb, past participle\n",
            "by | ADP | adposition | conjunction, subordinating or preposition\n",
            "strong | ADJ | adjective | adjective (English), other noun-modifier (Chinese)\n",
            "bookings | NOUN | noun | noun, plural\n",
            "growth | NOUN | noun | noun, singular or mass\n",
            "driven | VERB | verb | verb, past participle\n",
            "by | ADP | adposition | conjunction, subordinating or preposition\n",
            "long | ADJ | adjective | adjective (English), other noun-modifier (Chinese)\n",
            "term | NOUN | noun | noun, singular or mass\n",
            "Azure | ADJ | adjective | adjective (English), other noun-modifier (Chinese)\n",
            "commitments | NOUN | noun | noun, plural\n",
            "increased | VERB | verb | verb, past tense\n",
            "Microsoft | PROPN | proper noun | noun, proper singular\n",
            "Cloud | PROPN | proper noun | noun, proper singular\n",
            "revenue | NOUN | noun | noun, singular or mass\n",
            "to | ADP | adposition | conjunction, subordinating or preposition\n",
            "$ | SYM | symbol | symbol, currency\n",
            "22.1 | NUM | numeral | cardinal number\n",
            "billion | NUM | numeral | cardinal number\n",
            "up | ADV | adverb | adverb\n",
            "32 | NUM | numeral | cardinal number\n",
            "% | NOUN | noun | noun, singular or mass\n",
            "year | NOUN | noun | noun, singular or mass\n",
            "over | ADP | adposition | conjunction, subordinating or preposition\n",
            "year | NOUN | noun | noun, singular or mass\n",
            "said | VERB | verb | verb, past tense\n",
            "Amy | PROPN | proper noun | noun, proper singular\n",
            "Hood | PROPN | proper noun | noun, proper singular\n",
            "executive | ADJ | adjective | adjective (English), other noun-modifier (Chinese)\n",
            "vice | NOUN | noun | noun, singular or mass\n",
            "president | NOUN | noun | noun, singular or mass\n",
            "and | CCONJ | coordinating conjunction | conjunction, coordinating\n",
            "chief | ADJ | adjective | adjective (English), other noun-modifier (Chinese)\n",
            "financial | ADJ | adjective | adjective (English), other noun-modifier (Chinese)\n",
            "officer | NOUN | noun | noun, singular or mass\n",
            "of | ADP | adposition | conjunction, subordinating or preposition\n",
            "Microsoft | PROPN | proper noun | noun, proper singular\n"
          ]
        }
      ]
    },
    {
      "cell_type": "code",
      "source": [
        "count1 = doc.count_by(spacy.attrs.TAG)\n",
        "count = doc.count_by(spacy.attrs.POS)\n",
        "doc.vocab[96].text\n",
        "#counting total pronouns\n",
        "for i,j in count.items():\n",
        "  print(doc.vocab[i].text,\"|\",j)"
      ],
      "metadata": {
        "colab": {
          "base_uri": "https://localhost:8080/"
        },
        "id": "nLl9xG6Mo8gB",
        "outputId": "50e3c501-6f20-4460-ac4f-3c2ddc50a016"
      },
      "execution_count": null,
      "outputs": [
        {
          "output_type": "stream",
          "name": "stdout",
          "text": [
            "PROPN | 13\n",
            "NOUN | 46\n",
            "VERB | 24\n",
            "DET | 9\n",
            "ADP | 16\n",
            "NUM | 16\n",
            "PUNCT | 27\n",
            "SCONJ | 1\n",
            "ADJ | 20\n",
            "SPACE | 10\n",
            "AUX | 6\n",
            "SYM | 5\n",
            "CCONJ | 12\n",
            "ADV | 3\n",
            "PART | 3\n",
            "PRON | 2\n"
          ]
        }
      ]
    },
    {
      "cell_type": "markdown",
      "source": [
        "#Exercise\n",
        "You are parsing a news story from cnbc.com. News story is stores in news_story.txt which is available in this same folder on github. You need to,\n",
        "\n",
        "    Extract all NOUN tokens from this story. You will have to read the file in python first to collect all the text and then extract NOUNs in a python list\n",
        "    Extract all numbers (NUM POS type) in a python list\n",
        "    Print a count of all POS tags in this story"
      ],
      "metadata": {
        "id": "F_Rd6XQr1DxS"
      }
    },
    {
      "cell_type": "code",
      "source": [
        "with open(\"news.txt\",\"w\") as f:\n",
        "  f.write('''Inflation rose again in April, continuing a climb that has pushed consumers to the brink and is threatening the economic expansion, the Bureau of Labor Statistics reported Wednesday.\n",
        "\n",
        "The consumer price index, a broad-based measure of prices for goods and services, increased 8.3% from a year ago, higher than the Dow Jones estimate for an 8.1% gain. That represented a slight ease from March’s peak but was still close to the highest level since the summer of 1982.\n",
        "\n",
        "Removing volatile food and energy prices, so-called core CPI still rose 6.2%, against expectations for a 6% gain, clouding hopes that inflation had peaked in March.\n",
        "\n",
        "The month-over-month gains also were higher than expectations — 0.3% on headline CPI versus the 0.2% estimate and a 0.6% increase for core, against the outlook for a 0.4% gain.\n",
        "\n",
        "The price gains also meant that workers continued to lose ground. Real wages adjusted for inflation decreased 0.1% on the month despite a nominal increase of 0.3% in average hourly earnings. Over the past year, real earnings have dropped 2.6% even though average hourly earnings are up 5.5%.\n",
        "\n",
        "Inflation has been the single biggest threat to a recovery that began early in the Covid pandemic and saw the economy in 2021 stage its biggest single-year growth level since 1984. Rising prices at the pump and in grocery stores have been one problem, but inflation has spread beyond those two areas into housing, auto sales and a host of other areas.\n",
        "\n",
        "Federal Reserve officials have responded to the problem with two interest rate hikes so far this year and pledges of more until inflation comes down to the central bank’s 2% goal. However, Wednesday’s data shows that the Fed has a big job ahead.\n",
        "\n",
        "Credits: cnbc.com''')\n",
        "with open(\"news.txt\") as f:\n",
        "  news_text = f.read()"
      ],
      "metadata": {
        "id": "VKNgvouc0GhZ"
      },
      "execution_count": null,
      "outputs": []
    },
    {
      "cell_type": "code",
      "source": [
        "import spacy\n",
        "nlp = spacy.load(\"en_core_web_sm\")\n",
        "doc = nlp(news_text)\n",
        "nouns = []\n",
        "numbers = []\n",
        "\n",
        "for i in doc:\n",
        "  if i.pos_==\"NOUN\":\n",
        "    nouns.append(i)\n",
        "\n",
        "  elif i.pos_==\"NUM\":\n",
        "    numbers.append(i)\n",
        "print(nouns)\n",
        "print(numbers)\n",
        "\n",
        "count = doc.count_by(spacy.attrs.POS)\n",
        "for i,j in count.items():\n",
        "  print(doc.vocab[i].text,\"|\",j)"
      ],
      "metadata": {
        "colab": {
          "base_uri": "https://localhost:8080/"
        },
        "id": "O0rYJnFk1rH_",
        "outputId": "b8287dfb-e5e5-4912-c67e-923db5f4145e"
      },
      "execution_count": null,
      "outputs": [
        {
          "output_type": "stream",
          "name": "stdout",
          "text": [
            "[Inflation, climb, consumers, brink, expansion, consumer, price, index, measure, prices, goods, services, %, year, estimate, %, gain, ease, peak, level, summer, food, energy, prices, core, %, expectations, %, gain, hopes, inflation, month, month, gains, expectations, %, headline, %, estimate, %, increase, core, outlook, %, gain, price, gains, workers, ground, wages, inflation, %, month, increase, %, earnings, year, earnings, %, earnings, %, Inflation, threat, recovery, pandemic, economy, stage, year, growth, level, prices, pump, grocery, stores, problem, inflation, areas, housing, auto, sales, host, areas, officials, problem, interest, rate, hikes, year, pledges, inflation, bank, %, goal, data, job, Credits]\n",
            "[8.3, 8.1, 1982, 6.2, 6, 0.3, 0.2, 0.6, 0.4, 0.1, 0.3, 2.6, 5.5, 2021, 1984, one, two, two, 2]\n",
            "NOUN | 96\n",
            "VERB | 27\n",
            "ADV | 15\n",
            "ADP | 39\n",
            "PROPN | 16\n",
            "PUNCT | 32\n",
            "DET | 34\n",
            "PRON | 4\n",
            "AUX | 13\n",
            "CCONJ | 10\n",
            "ADJ | 23\n",
            "SPACE | 7\n",
            "NUM | 19\n",
            "PART | 4\n",
            "SCONJ | 8\n",
            "X | 1\n"
          ]
        }
      ]
    }
  ]
}