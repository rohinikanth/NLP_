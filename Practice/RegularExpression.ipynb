{
  "nbformat": 4,
  "nbformat_minor": 0,
  "metadata": {
    "colab": {
      "provenance": []
    },
    "kernelspec": {
      "name": "python3",
      "display_name": "Python 3"
    },
    "language_info": {
      "name": "python"
    }
  },
  "cells": [
    {
      "cell_type": "markdown",
      "source": [
        "***REGEX***\n",
        "\n"
      ],
      "metadata": {
        "id": "BLQSWjpZmafm"
      }
    },
    {
      "cell_type": "code",
      "execution_count": null,
      "metadata": {
        "id": "TvLhNO4xXQoz"
      },
      "outputs": [],
      "source": [
        "import re"
      ]
    },
    {
      "cell_type": "code",
      "source": [
        "c1 = \"Call me on morning and my phone no. is 1234567893, a_bc@xyz.com, 5678123479\"\n",
        "c2 = \"ya.. here is my number 1234567893, abc_4rf_12@xjyz.hop\"\n",
        "c3 = \"Phone: (123)-456-7893, 7643782319 ,Email: 6abc@xyz.com\""
      ],
      "metadata": {
        "id": "6Ib3p80sZGDg"
      },
      "execution_count": null,
      "outputs": []
    },
    {
      "cell_type": "code",
      "source": [
        "pattern = \"\\d{10}|\\(\\d{3}\\)-\\d{3}-\\d{4}\"\n",
        "print(re.findall(pattern,c1))\n",
        "print(re.findall(pattern,c3))"
      ],
      "metadata": {
        "colab": {
          "base_uri": "https://localhost:8080/"
        },
        "id": "drBZiZE7acCE",
        "outputId": "f2274b82-a261-4e7b-92b1-b084be7a6904"
      },
      "execution_count": null,
      "outputs": [
        {
          "output_type": "stream",
          "name": "stdout",
          "text": [
            "['1234567893', '5678123479']\n",
            "['(123)-456-7893', '7643782319']\n"
          ]
        }
      ]
    },
    {
      "cell_type": "code",
      "source": [
        "find ='[a-zA-Z_0-9]*@[a-zA-Z0-9]*\\.com'\n",
        "#[a-zA-Z_0-9]*@[a-zA-Z0-9]*\\.[a-zA-Z]*\n",
        "print(re.findall(find,c1))\n",
        "print(re.findall(find,c3))\n",
        "print(re.findall(find,c2))\n"
      ],
      "metadata": {
        "colab": {
          "base_uri": "https://localhost:8080/"
        },
        "id": "3Qylgl4Eh3rL",
        "outputId": "37e598c0-bd6a-4c85-c1c6-572592a36589"
      },
      "execution_count": null,
      "outputs": [
        {
          "output_type": "stream",
          "name": "stdout",
          "text": [
            "['a_bc@xyz.com']\n",
            "['6abc@xyz.com']\n",
            "[]\n"
          ]
        }
      ]
    },
    {
      "cell_type": "code",
      "source": [
        "c4 = \"Iam having an issue with my order number # !34674892\"\n",
        "c5 = \"Iam have a proglem with my order # 2392\"\n",
        "c6 = \"My order is234674892 having an issue,I was charged $400  when online it says $300\""
      ],
      "metadata": {
        "id": "xm2J3dgmjxrW"
      },
      "execution_count": null,
      "outputs": []
    },
    {
      "cell_type": "code",
      "source": [
        "find = 'order[^\\d]*(\\d*)'\n",
        "print(re.findall(find,c4))\n",
        "print(re.findall(find,c5))\n",
        "print(re.findall(find,c6))"
      ],
      "metadata": {
        "colab": {
          "base_uri": "https://localhost:8080/"
        },
        "id": "wyF13fg4jxo2",
        "outputId": "6e06a914-c870-4fee-8396-ddf18a785e98"
      },
      "execution_count": null,
      "outputs": [
        {
          "output_type": "stream",
          "name": "stdout",
          "text": [
            "['34674892']\n",
            "['2392']\n",
            "['234674892']\n"
          ]
        }
      ]
    },
    {
      "cell_type": "markdown",
      "source": [
        "INFORMATION EXTRACTION"
      ],
      "metadata": {
        "id": "GwLnkld_m05c"
      }
    },
    {
      "cell_type": "code",
      "source": [
        "text = '''\n",
        "Born        \tElon Reeve Musk\n",
        "              June 28, 1971 (age 53)\n",
        "              Pretoria, Transvaal, South Africa\n",
        "Citizenship\t  South Africa ,Canada ,United States\n",
        "Education   \tUniversity of Pennsylvania (BA, BS)\n",
        "Title\t        Founder, CEO, and chief engineer of SpaceX\n",
        "              CEO and product architect of Tesla, Inc.\n",
        "              Owner, CTO and Executive Chairman of X (formerly Twitter)\n",
        "              President of the Musk Foundation\n",
        "              Founder of The Boring Company, X Corp., and xAI\n",
        "             Co-founder of Neuralink, OpenAI, Zip2, and X.com (part of PayPal)\n",
        "\n",
        "Spouses Justine Wilson\n",
        "    (m. 2000; div. 2008)​\n",
        "    Talulah Riley\n",
        "    (m. 2010; div. 2012)​\n",
        "    (m. 2013; div. 2016)​\n",
        "\n",
        "Partners\tGrimes (2018–2021)[1]\n",
        "\n",
        "Children\t12[a][3]\n",
        "Parents\t Errol Musk,Maye Musk\n",
        "\n",
        "Relatives\tKimbal Musk (brother),Tosca Musk (sister),Lyndon Rive (cousin)'''"
      ],
      "metadata": {
        "id": "CsAKBSJWm8AF"
      },
      "execution_count": null,
      "outputs": []
    },
    {
      "cell_type": "code",
      "source": [
        "age ='age (\\d+)'\n",
        "born ='Born(.*)\\n'\n",
        "print(re.findall(age,text))\n",
        "g1 = re.findall(born,text)\n",
        "print(g1[0].strip())\n"
      ],
      "metadata": {
        "colab": {
          "base_uri": "https://localhost:8080/"
        },
        "id": "kn_Igf5Sq-n4",
        "outputId": "899ef718-c464-438a-eb5b-616cbcda7288"
      },
      "execution_count": null,
      "outputs": [
        {
          "output_type": "stream",
          "name": "stdout",
          "text": [
            "['53']\n",
            "Elon Reeve Musk\n"
          ]
        }
      ]
    },
    {
      "cell_type": "code",
      "source": [
        "dob = 'Born.*\\n(.*)\\(age'\n",
        "g2 = re.findall(dob,text)\n",
        "print(g2[0].strip())"
      ],
      "metadata": {
        "colab": {
          "base_uri": "https://localhost:8080/"
        },
        "id": "J2Zlvyoiq9u6",
        "outputId": "7dae2fe6-a1ea-49f8-b69d-6f97ec04c90a"
      },
      "execution_count": null,
      "outputs": [
        {
          "output_type": "stream",
          "name": "stdout",
          "text": [
            "June 28, 1971\n"
          ]
        }
      ]
    },
    {
      "cell_type": "code",
      "source": [
        "b_place = '\\(age.*\\n(.*)'\n",
        "g3 = re.findall(b_place,text)\n",
        "print(g3[0].strip())"
      ],
      "metadata": {
        "colab": {
          "base_uri": "https://localhost:8080/"
        },
        "id": "byGq0rejq9lI",
        "outputId": "2a2e32bd-5cee-4bed-9c9a-2dc162fa8321"
      },
      "execution_count": null,
      "outputs": [
        {
          "output_type": "stream",
          "name": "stdout",
          "text": [
            "Pretoria, Transvaal, South Africa\n"
          ]
        }
      ]
    },
    {
      "cell_type": "code",
      "source": [
        "def get_pattern_match(pattern,text):\n",
        "  matches = re.findall(pattern,text)\n",
        "  if matches:\n",
        "   return matches[0].strip()\n",
        "\n"
      ],
      "metadata": {
        "id": "0a1qK52SIXiH"
      },
      "execution_count": null,
      "outputs": []
    },
    {
      "cell_type": "code",
      "source": [
        "def get_info(text):\n",
        "  age = get_pattern_match('age (\\d+)',text)\n",
        "  born = get_pattern_match('Born(.*)\\n',text)\n",
        "  dob = get_pattern_match('Born.*\\n(.*)\\(age',text)\n",
        "  b_place = get_pattern_match('\\(age.*\\n(.*)',text)\n",
        "  return {\n",
        "          'Age':int(age),\n",
        "          'Born':born,\n",
        "          'DOB':dob,\n",
        "          'Birth_Place':b_place\n",
        "          }"
      ],
      "metadata": {
        "id": "kB_5QNKnJ3da"
      },
      "execution_count": null,
      "outputs": []
    },
    {
      "cell_type": "code",
      "source": [
        "print(get_info(text))"
      ],
      "metadata": {
        "colab": {
          "base_uri": "https://localhost:8080/"
        },
        "id": "-4w1pKk2J3Hc",
        "outputId": "f7eda81a-d521-4351-fb3f-13a6aa1a7d98"
      },
      "execution_count": null,
      "outputs": [
        {
          "output_type": "stream",
          "name": "stdout",
          "text": [
            "{'Age': 53, 'Born': 'Elon Reeve Musk', 'DOB': 'June 28, 1971', 'Birth_Place': 'Pretoria, Transvaal, South Africa'}\n"
          ]
        }
      ]
    },
    {
      "cell_type": "code",
      "source": [
        "!pip install spacy\n"
      ],
      "metadata": {
        "id": "l7cPLAxIL6sp",
        "colab": {
          "base_uri": "https://localhost:8080/"
        },
        "collapsed": true,
        "outputId": "b087f83f-202b-40b5-e427-d978e30416c1"
      },
      "execution_count": null,
      "outputs": [
        {
          "output_type": "stream",
          "name": "stdout",
          "text": [
            "Requirement already satisfied: spacy in /usr/local/lib/python3.10/dist-packages (3.7.5)\n",
            "Requirement already satisfied: spacy-legacy<3.1.0,>=3.0.11 in /usr/local/lib/python3.10/dist-packages (from spacy) (3.0.12)\n",
            "Requirement already satisfied: spacy-loggers<2.0.0,>=1.0.0 in /usr/local/lib/python3.10/dist-packages (from spacy) (1.0.5)\n",
            "Requirement already satisfied: murmurhash<1.1.0,>=0.28.0 in /usr/local/lib/python3.10/dist-packages (from spacy) (1.0.10)\n",
            "Requirement already satisfied: cymem<2.1.0,>=2.0.2 in /usr/local/lib/python3.10/dist-packages (from spacy) (2.0.8)\n",
            "Requirement already satisfied: preshed<3.1.0,>=3.0.2 in /usr/local/lib/python3.10/dist-packages (from spacy) (3.0.9)\n",
            "Requirement already satisfied: thinc<8.3.0,>=8.2.2 in /usr/local/lib/python3.10/dist-packages (from spacy) (8.2.5)\n",
            "Requirement already satisfied: wasabi<1.2.0,>=0.9.1 in /usr/local/lib/python3.10/dist-packages (from spacy) (1.1.3)\n",
            "Requirement already satisfied: srsly<3.0.0,>=2.4.3 in /usr/local/lib/python3.10/dist-packages (from spacy) (2.4.8)\n",
            "Requirement already satisfied: catalogue<2.1.0,>=2.0.6 in /usr/local/lib/python3.10/dist-packages (from spacy) (2.0.10)\n",
            "Requirement already satisfied: weasel<0.5.0,>=0.1.0 in /usr/local/lib/python3.10/dist-packages (from spacy) (0.4.1)\n",
            "Requirement already satisfied: typer<1.0.0,>=0.3.0 in /usr/local/lib/python3.10/dist-packages (from spacy) (0.12.3)\n",
            "Requirement already satisfied: tqdm<5.0.0,>=4.38.0 in /usr/local/lib/python3.10/dist-packages (from spacy) (4.66.4)\n",
            "Requirement already satisfied: requests<3.0.0,>=2.13.0 in /usr/local/lib/python3.10/dist-packages (from spacy) (2.31.0)\n",
            "Requirement already satisfied: pydantic!=1.8,!=1.8.1,<3.0.0,>=1.7.4 in /usr/local/lib/python3.10/dist-packages (from spacy) (2.8.2)\n",
            "Requirement already satisfied: jinja2 in /usr/local/lib/python3.10/dist-packages (from spacy) (3.1.4)\n",
            "Requirement already satisfied: setuptools in /usr/local/lib/python3.10/dist-packages (from spacy) (67.7.2)\n",
            "Requirement already satisfied: packaging>=20.0 in /usr/local/lib/python3.10/dist-packages (from spacy) (24.1)\n",
            "Requirement already satisfied: langcodes<4.0.0,>=3.2.0 in /usr/local/lib/python3.10/dist-packages (from spacy) (3.4.0)\n",
            "Requirement already satisfied: numpy>=1.19.0 in /usr/local/lib/python3.10/dist-packages (from spacy) (1.25.2)\n",
            "Requirement already satisfied: language-data>=1.2 in /usr/local/lib/python3.10/dist-packages (from langcodes<4.0.0,>=3.2.0->spacy) (1.2.0)\n",
            "Requirement already satisfied: annotated-types>=0.4.0 in /usr/local/lib/python3.10/dist-packages (from pydantic!=1.8,!=1.8.1,<3.0.0,>=1.7.4->spacy) (0.7.0)\n",
            "Requirement already satisfied: pydantic-core==2.20.1 in /usr/local/lib/python3.10/dist-packages (from pydantic!=1.8,!=1.8.1,<3.0.0,>=1.7.4->spacy) (2.20.1)\n",
            "Requirement already satisfied: typing-extensions>=4.6.1 in /usr/local/lib/python3.10/dist-packages (from pydantic!=1.8,!=1.8.1,<3.0.0,>=1.7.4->spacy) (4.12.2)\n",
            "Requirement already satisfied: charset-normalizer<4,>=2 in /usr/local/lib/python3.10/dist-packages (from requests<3.0.0,>=2.13.0->spacy) (3.3.2)\n",
            "Requirement already satisfied: idna<4,>=2.5 in /usr/local/lib/python3.10/dist-packages (from requests<3.0.0,>=2.13.0->spacy) (3.7)\n",
            "Requirement already satisfied: urllib3<3,>=1.21.1 in /usr/local/lib/python3.10/dist-packages (from requests<3.0.0,>=2.13.0->spacy) (2.0.7)\n",
            "Requirement already satisfied: certifi>=2017.4.17 in /usr/local/lib/python3.10/dist-packages (from requests<3.0.0,>=2.13.0->spacy) (2024.7.4)\n",
            "Requirement already satisfied: blis<0.8.0,>=0.7.8 in /usr/local/lib/python3.10/dist-packages (from thinc<8.3.0,>=8.2.2->spacy) (0.7.11)\n",
            "Requirement already satisfied: confection<1.0.0,>=0.0.1 in /usr/local/lib/python3.10/dist-packages (from thinc<8.3.0,>=8.2.2->spacy) (0.1.5)\n",
            "Requirement already satisfied: click>=8.0.0 in /usr/local/lib/python3.10/dist-packages (from typer<1.0.0,>=0.3.0->spacy) (8.1.7)\n",
            "Requirement already satisfied: shellingham>=1.3.0 in /usr/local/lib/python3.10/dist-packages (from typer<1.0.0,>=0.3.0->spacy) (1.5.4)\n",
            "Requirement already satisfied: rich>=10.11.0 in /usr/local/lib/python3.10/dist-packages (from typer<1.0.0,>=0.3.0->spacy) (13.7.1)\n",
            "Requirement already satisfied: cloudpathlib<1.0.0,>=0.7.0 in /usr/local/lib/python3.10/dist-packages (from weasel<0.5.0,>=0.1.0->spacy) (0.18.1)\n",
            "Requirement already satisfied: smart-open<8.0.0,>=5.2.1 in /usr/local/lib/python3.10/dist-packages (from weasel<0.5.0,>=0.1.0->spacy) (7.0.4)\n",
            "Requirement already satisfied: MarkupSafe>=2.0 in /usr/local/lib/python3.10/dist-packages (from jinja2->spacy) (2.1.5)\n",
            "Requirement already satisfied: marisa-trie>=0.7.7 in /usr/local/lib/python3.10/dist-packages (from language-data>=1.2->langcodes<4.0.0,>=3.2.0->spacy) (1.2.0)\n",
            "Requirement already satisfied: markdown-it-py>=2.2.0 in /usr/local/lib/python3.10/dist-packages (from rich>=10.11.0->typer<1.0.0,>=0.3.0->spacy) (3.0.0)\n",
            "Requirement already satisfied: pygments<3.0.0,>=2.13.0 in /usr/local/lib/python3.10/dist-packages (from rich>=10.11.0->typer<1.0.0,>=0.3.0->spacy) (2.16.1)\n",
            "Requirement already satisfied: wrapt in /usr/local/lib/python3.10/dist-packages (from smart-open<8.0.0,>=5.2.1->weasel<0.5.0,>=0.1.0->spacy) (1.14.1)\n",
            "Requirement already satisfied: mdurl~=0.1 in /usr/local/lib/python3.10/dist-packages (from markdown-it-py>=2.2.0->rich>=10.11.0->typer<1.0.0,>=0.3.0->spacy) (0.1.2)\n"
          ]
        }
      ]
    },
    {
      "cell_type": "markdown",
      "source": [
        "Object-oriented sentence tokenization"
      ],
      "metadata": {
        "id": "G0Q9p-J2bJCM"
      }
    },
    {
      "cell_type": "code",
      "source": [
        "import spacy\n",
        "\n",
        "nlp = spacy.load(\"en_core_web_sm\")\n",
        "sentence = nlp(\"Mr.Jichag Wook is an amazing actor.K2,Healer,etc. are some of his prominent works.\")\n",
        "\n",
        "for i in sentence.sents:\n",
        "  print(i)\n",
        "  for w in i:\n",
        "    print(w)"
      ],
      "metadata": {
        "colab": {
          "base_uri": "https://localhost:8080/"
        },
        "collapsed": true,
        "id": "X36uTnAcaipj",
        "outputId": "a44b3578-a81d-4675-c33d-6c01dc29345f"
      },
      "execution_count": null,
      "outputs": [
        {
          "output_type": "stream",
          "name": "stdout",
          "text": [
            "Mr.Jichag Wook is an amazing actor.\n",
            "Mr.\n",
            "Jichag\n",
            "Wook\n",
            "is\n",
            "an\n",
            "amazing\n",
            "actor\n",
            ".\n",
            "K2,Healer,etc. are some of his prominent works.\n",
            "K2,Healer\n",
            ",\n",
            "etc\n",
            ".\n",
            "are\n",
            "some\n",
            "of\n",
            "his\n",
            "prominent\n",
            "works\n",
            ".\n"
          ]
        }
      ]
    },
    {
      "cell_type": "code",
      "source": [
        "import spacy\n",
        "nlp = spacy.blank(\"en\")\n",
        "doc = nlp(\"Today is a beautiful day.Ms.Rani got promoted as Executive director in her compay!\")\n",
        "for i in doc:\n",
        "  print(i)\n",
        "nlp.pipe_names"
      ],
      "metadata": {
        "colab": {
          "base_uri": "https://localhost:8080/"
        },
        "collapsed": true,
        "id": "pZ8LRB_o_S8q",
        "outputId": "e2dc8655-6af2-4bc7-927d-2ff5b6717d6a"
      },
      "execution_count": null,
      "outputs": [
        {
          "output_type": "stream",
          "name": "stdout",
          "text": [
            "Today\n",
            "is\n",
            "a\n",
            "beautiful\n",
            "day\n",
            ".\n",
            "Ms.\n",
            "Rani\n",
            "got\n",
            "promoted\n",
            "as\n",
            "Executive\n",
            "director\n",
            "in\n",
            "her\n",
            "compay\n",
            "!\n"
          ]
        },
        {
          "output_type": "execute_result",
          "data": {
            "text/plain": [
              "[]"
            ]
          },
          "metadata": {},
          "execution_count": 2
        }
      ]
    },
    {
      "cell_type": "code",
      "source": [
        "doc = nlp('''\"Let's go to N.Y.! in two 2 days\"''')\n",
        "token0 = doc[1]\n",
        "print(token0)\n",
        "type(token0)\n",
        "dir(token0)\n",
        "\n",
        "print(token0.is_punct)\n",
        "print(token0.is_alpha)\n",
        "print(token0.is_digit)\n",
        "print(token0.is_lower)"
      ],
      "metadata": {
        "colab": {
          "base_uri": "https://localhost:8080/"
        },
        "collapsed": true,
        "id": "MDlNw9-TFFHm",
        "outputId": "4ab7fab4-c38a-4e88-9eac-eb976e8815e3"
      },
      "execution_count": null,
      "outputs": [
        {
          "output_type": "stream",
          "name": "stdout",
          "text": [
            "Let\n",
            "False\n",
            "True\n",
            "False\n",
            "False\n"
          ]
        }
      ]
    },
    {
      "cell_type": "code",
      "source": [
        "token8 = doc[8]\n",
        "token8.text\n",
        "print(token8.is_digit)\n",
        "print(token8.like_num)\n",
        "print(doc[9].like_num)\n",
        "doc[9].is_digit"
      ],
      "metadata": {
        "colab": {
          "base_uri": "https://localhost:8080/"
        },
        "collapsed": true,
        "id": "btNmWfpEGgNu",
        "outputId": "28950f4b-fe27-44c3-b87d-79b963048fe5"
      },
      "execution_count": null,
      "outputs": [
        {
          "output_type": "stream",
          "name": "stdout",
          "text": [
            "False\n",
            "True\n",
            "True\n"
          ]
        },
        {
          "output_type": "execute_result",
          "data": {
            "text/plain": [
              "True"
            ]
          },
          "metadata": {},
          "execution_count": 27
        }
      ]
    },
    {
      "cell_type": "markdown",
      "source": [
        "Collecting email ids of students from students information sheet"
      ],
      "metadata": {
        "id": "1k7N2I_yBln7"
      }
    },
    {
      "cell_type": "code",
      "source": [
        "with open(\"student.txt\") as f:\n",
        "  text = f.readlines()\n",
        "text =''.join(text)                         #It returns output in a list"
      ],
      "metadata": {
        "id": "X7JzKt1mILxr"
      },
      "execution_count": null,
      "outputs": []
    },
    {
      "cell_type": "code",
      "source": [
        "doc = nlp(text)\n",
        "emails = []\n",
        "for token in doc:\n",
        "    if token.like_email:\n",
        "        emails.append(token.text)\n",
        "emails\n",
        "\n"
      ],
      "metadata": {
        "id": "_4wXkln2BtjH",
        "colab": {
          "base_uri": "https://localhost:8080/"
        },
        "outputId": "9123426e-77e4-4532-8532-f1ac5cff2067"
      },
      "execution_count": null,
      "outputs": [
        {
          "output_type": "execute_result",
          "data": {
            "text/plain": [
              "['virat@kohli.com',\n",
              " 'maria@sharapova.com',\n",
              " 'serena@williams.com',\n",
              " 'joe@root.com']"
            ]
          },
          "metadata": {},
          "execution_count": 56
        }
      ]
    },
    {
      "cell_type": "markdown",
      "source": [
        "Customize Tokens"
      ],
      "metadata": {
        "id": "FKgkjp2CGlbr"
      }
    },
    {
      "cell_type": "code",
      "source": [
        "doc= nlp(\"gimme double cheese extra large healthy pizza\")\n",
        "tokens =[tokens.text for tokens in doc]\n",
        "tokens"
      ],
      "metadata": {
        "colab": {
          "base_uri": "https://localhost:8080/"
        },
        "id": "1oRRBFD0E-_Z",
        "outputId": "28807631-f3f6-4d4d-e0ca-1f37a57c8fd4"
      },
      "execution_count": null,
      "outputs": [
        {
          "output_type": "execute_result",
          "data": {
            "text/plain": [
              "['gimme', 'double', 'cheese', 'extra', 'large', 'healthy', 'pizza']"
            ]
          },
          "metadata": {},
          "execution_count": 60
        }
      ]
    },
    {
      "cell_type": "code",
      "source": [
        "from spacy.symbols import ORTH\n",
        "#can't modify the text to give and me ,bt can split it(changing actual text is not allowed)\n",
        "nlp.tokenizer.add_special_case(\"gimme\" ,\n",
        " [{ORTH:\"gim\"},\n",
        "  {ORTH:\"me\"}\n",
        "  ])\n",
        "doc = nlp(\"gimme double cheese extra large healthy pizza\")\n",
        "tokens = [tokens.text for tokens in doc]\n",
        "tokens"
      ],
      "metadata": {
        "colab": {
          "base_uri": "https://localhost:8080/"
        },
        "id": "a2HjNayvHUBJ",
        "outputId": "09c8f81a-8f04-4a03-ba43-d35071ef5cbb"
      },
      "execution_count": null,
      "outputs": [
        {
          "output_type": "execute_result",
          "data": {
            "text/plain": [
              "['gim', 'me', 'double', 'cheese', 'extra', 'large', 'healthy', 'pizza']"
            ]
          },
          "metadata": {},
          "execution_count": 66
        }
      ]
    },
    {
      "cell_type": "code",
      "source": [
        "doc = nlp(\"Dr. Strange loves pav bhaji of mumbai. Hulk loves chat of delhi\")\n",
        "for token in doc.sents:\n",
        "  print(token)\n",
        "#Error bcz pipe.name is empty so add a component to it\n",
        "nlp.pipe_names"
      ],
      "metadata": {
        "colab": {
          "base_uri": "https://localhost:8080/"
        },
        "id": "ya4GLofMJqlj",
        "outputId": "c442e5b8-f589-4d26-be35-468d8339761c"
      },
      "execution_count": null,
      "outputs": [
        {
          "output_type": "stream",
          "name": "stdout",
          "text": [
            "Dr. Strange loves pav bhaji of mumbai.\n",
            "Hulk loves chat of delhi\n"
          ]
        },
        {
          "output_type": "execute_result",
          "data": {
            "text/plain": [
              "['sentencizer']"
            ]
          },
          "metadata": {},
          "execution_count": 76
        }
      ]
    },
    {
      "cell_type": "code",
      "source": [
        "nlp.add_pipe(\"sentencizer\")"
      ],
      "metadata": {
        "colab": {
          "base_uri": "https://localhost:8080/"
        },
        "id": "srpt7dLUKIXz",
        "outputId": "bee8650c-0c84-4241-cffd-a6a5ae47a030"
      },
      "execution_count": null,
      "outputs": [
        {
          "output_type": "execute_result",
          "data": {
            "text/plain": [
              "<spacy.pipeline.sentencizer.Sentencizer at 0x7a3d28b6a080>"
            ]
          },
          "metadata": {},
          "execution_count": 74
        }
      ]
    },
    {
      "cell_type": "code",
      "source": [
        "text='''\n",
        "Look for data to help you address the question. Governments are good\n",
        "sources because data from public research is often freely available. Good\n",
        "places to start include http://www.data.gov/, and http://www.science.\n",
        "gov/, and in the United Kingdom, http://data.gov.uk/.\n",
        "Two of my favorite data sets are the General Social Survey at http://www3.norc.org/gss+website/,\n",
        "and the European Social Survey at http://www.europeansocialsurvey.org/.\n",
        "'''\n",
        "text = ''.join(text)\n",
        "text"
      ],
      "metadata": {
        "colab": {
          "base_uri": "https://localhost:8080/",
          "height": 70
        },
        "id": "LR-O1MblKoRb",
        "outputId": "eecb3660-c339-4f1e-baff-782fc0a64e92"
      },
      "execution_count": null,
      "outputs": [
        {
          "output_type": "execute_result",
          "data": {
            "text/plain": [
              "'\\nLook for data to help you address the question. Governments are good\\nsources because data from public research is often freely available. Good\\nplaces to start include http://www.data.gov/, and http://www.science.\\ngov/, and in the United Kingdom, http://data.gov.uk/.\\nTwo of my favorite data sets are the General Social Survey at http://www3.norc.org/gss+website/, \\nand the European Social Survey at http://www.europeansocialsurvey.org/.\\n'"
            ],
            "application/vnd.google.colaboratory.intrinsic+json": {
              "type": "string"
            }
          },
          "metadata": {},
          "execution_count": 77
        }
      ]
    },
    {
      "cell_type": "code",
      "source": [
        "coll = nlp(text)\n",
        "urls =[]\n",
        "for token in coll:\n",
        "  if token.like_url:\n",
        "    urls.append(token.text)\n",
        "urls"
      ],
      "metadata": {
        "colab": {
          "base_uri": "https://localhost:8080/"
        },
        "id": "l9VS71WJMNcp",
        "outputId": "d3c4ee0a-3ef2-4a74-a33c-d842441e9a43"
      },
      "execution_count": null,
      "outputs": [
        {
          "output_type": "execute_result",
          "data": {
            "text/plain": [
              "['http://www.data.gov/',\n",
              " 'http://www.science',\n",
              " 'http://data.gov.uk/.',\n",
              " 'http://www3.norc.org/gss+website/',\n",
              " 'http://www.europeansocialsurvey.org/.']"
            ]
          },
          "metadata": {},
          "execution_count": 80
        }
      ]
    },
    {
      "cell_type": "code",
      "source": [
        "transactions = \"Tony gave two $ to Peter, Bruce gave 500 € to Steve\"\n",
        "doc = nlp(transactions)\n",
        "for token in doc:\n",
        "  if doc[token.i].like_num and doc[token.i+1].is_currency:\n",
        "    print(doc[token.i],doc[token.i+1])\n"
      ],
      "metadata": {
        "colab": {
          "base_uri": "https://localhost:8080/"
        },
        "id": "_0VY7_iRNGlN",
        "outputId": "b4a88514-fdda-4f2a-87a6-e20314807e95"
      },
      "execution_count": null,
      "outputs": [
        {
          "output_type": "stream",
          "name": "stdout",
          "text": [
            "two $\n",
            "500 €\n"
          ]
        }
      ]
    },
    {
      "cell_type": "markdown",
      "source": [
        "String processing"
      ],
      "metadata": {
        "id": "czvoou0HeX8f"
      }
    },
    {
      "cell_type": "code",
      "source": [
        "!pip install nltk\n",
        "nltk.download('punkt')"
      ],
      "metadata": {
        "colab": {
          "base_uri": "https://localhost:8080/",
          "height": 245
        },
        "collapsed": true,
        "id": "yOIfHn4SehHA",
        "outputId": "b1885c0e-e5be-4f0c-9200-cd3481460e8e"
      },
      "execution_count": null,
      "outputs": [
        {
          "output_type": "stream",
          "name": "stdout",
          "text": [
            "Requirement already satisfied: nltk in /usr/local/lib/python3.10/dist-packages (3.8.1)\n",
            "Requirement already satisfied: click in /usr/local/lib/python3.10/dist-packages (from nltk) (8.1.7)\n",
            "Requirement already satisfied: joblib in /usr/local/lib/python3.10/dist-packages (from nltk) (1.4.2)\n",
            "Requirement already satisfied: regex>=2021.8.3 in /usr/local/lib/python3.10/dist-packages (from nltk) (2024.5.15)\n",
            "Requirement already satisfied: tqdm in /usr/local/lib/python3.10/dist-packages (from nltk) (4.66.4)\n"
          ]
        },
        {
          "output_type": "error",
          "ename": "NameError",
          "evalue": "name 'nltk' is not defined",
          "traceback": [
            "\u001b[0;31m---------------------------------------------------------------------------\u001b[0m",
            "\u001b[0;31mNameError\u001b[0m                                 Traceback (most recent call last)",
            "\u001b[0;32m<ipython-input-1-ebdbc0c9da49>\u001b[0m in \u001b[0;36m<cell line: 2>\u001b[0;34m()\u001b[0m\n\u001b[1;32m      1\u001b[0m \u001b[0mget_ipython\u001b[0m\u001b[0;34m(\u001b[0m\u001b[0;34m)\u001b[0m\u001b[0;34m.\u001b[0m\u001b[0msystem\u001b[0m\u001b[0;34m(\u001b[0m\u001b[0;34m'pip install nltk'\u001b[0m\u001b[0;34m)\u001b[0m\u001b[0;34m\u001b[0m\u001b[0;34m\u001b[0m\u001b[0m\n\u001b[0;32m----> 2\u001b[0;31m \u001b[0mnltk\u001b[0m\u001b[0;34m.\u001b[0m\u001b[0mdownload\u001b[0m\u001b[0;34m(\u001b[0m\u001b[0;34m'punkt'\u001b[0m\u001b[0;34m)\u001b[0m\u001b[0;34m\u001b[0m\u001b[0;34m\u001b[0m\u001b[0m\n\u001b[0m",
            "\u001b[0;31mNameError\u001b[0m: name 'nltk' is not defined"
          ]
        }
      ]
    },
    {
      "cell_type": "code",
      "source": [
        "import nltk\n",
        "from nltk.tokenize import sent_tokenize,word_tokenize\n",
        "print(sent_tokenize(\"Mr.Jichag Wook is an amazing actor.K2,Healer,etc. are some of his prominent works.\"))\n",
        "\n",
        "word_tokenize(\"Mr.Jichag Wook is an amazing actor.K2,Healer,etc. are some of his prominent works.\")"
      ],
      "metadata": {
        "colab": {
          "base_uri": "https://localhost:8080/"
        },
        "id": "K7AFkFe9aicO",
        "outputId": "a0619f57-dc5f-45b8-d7a9-fa8028ea5fec"
      },
      "execution_count": null,
      "outputs": [
        {
          "output_type": "stream",
          "name": "stdout",
          "text": [
            "['Mr.Jichag Wook is an amazing actor.K2,Healer,etc.', 'are some of his prominent works.']\n"
          ]
        },
        {
          "output_type": "execute_result",
          "data": {
            "text/plain": [
              "['Mr.Jichag',\n",
              " 'Wook',\n",
              " 'is',\n",
              " 'an',\n",
              " 'amazing',\n",
              " 'actor.K2',\n",
              " ',',\n",
              " 'Healer',\n",
              " ',',\n",
              " 'etc',\n",
              " '.',\n",
              " 'are',\n",
              " 'some',\n",
              " 'of',\n",
              " 'his',\n",
              " 'prominent',\n",
              " 'works',\n",
              " '.']"
            ]
          },
          "metadata": {},
          "execution_count": 22
        }
      ]
    }
  ]
}